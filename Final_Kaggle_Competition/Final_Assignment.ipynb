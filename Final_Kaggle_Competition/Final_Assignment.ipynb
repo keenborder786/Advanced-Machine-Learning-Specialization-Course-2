{
  "nbformat": 4,
  "nbformat_minor": 0,
  "metadata": {
    "kernelspec": {
      "name": "python3",
      "display_name": "Python 3",
      "language": "python"
    },
    "language_info": {
      "name": "python",
      "version": "3.7.6",
      "mimetype": "text/x-python",
      "codemirror_mode": {
        "name": "ipython",
        "version": 3
      },
      "pygments_lexer": "ipython3",
      "nbconvert_exporter": "python",
      "file_extension": ".py"
    },
    "colab": {
      "name": "google-colab-notebook-1-predicting-sales.ipynb",
      "provenance": [],
      "collapsed_sections": [],
      "toc_visible": true
    },
    "accelerator": "GPU"
  },
  "cells": [
    {
      "cell_type": "code",
      "metadata": {
        "id": "AOEmj81VH5Kg",
        "outputId": "33173fb0-d12e-440d-a207-d41425436051",
        "colab": {
          "base_uri": "https://localhost:8080/",
          "height": 34
        }
      },
      "source": [
        "from google.colab import drive\n",
        "drive.mount('/content/drive')"
      ],
      "execution_count": 1,
      "outputs": [
        {
          "output_type": "stream",
          "text": [
            "Drive already mounted at /content/drive; to attempt to forcibly remount, call drive.mount(\"/content/drive\", force_remount=True).\n"
          ],
          "name": "stdout"
        }
      ]
    },
    {
      "cell_type": "code",
      "metadata": {
        "id": "Yjgj2D-xB9DU",
        "outputId": "2d7228d9-14a9-474c-fcc8-f63fb73b4c60",
        "colab": {
          "base_uri": "https://localhost:8080/",
          "height": 466
        }
      },
      "source": [
        "!pip install catboost\n",
        "!pip install xgboost\n",
        "!pip install lightgbm --install-option=--gpu"
      ],
      "execution_count": 2,
      "outputs": [
        {
          "output_type": "stream",
          "text": [
            "Requirement already satisfied: catboost in /usr/local/lib/python3.6/dist-packages (0.24.1)\n",
            "Requirement already satisfied: six in /usr/local/lib/python3.6/dist-packages (from catboost) (1.15.0)\n",
            "Requirement already satisfied: matplotlib in /usr/local/lib/python3.6/dist-packages (from catboost) (3.2.2)\n",
            "Requirement already satisfied: scipy in /usr/local/lib/python3.6/dist-packages (from catboost) (1.5.2)\n",
            "Requirement already satisfied: numpy>=1.16.0 in /usr/local/lib/python3.6/dist-packages (from catboost) (1.19.2)\n",
            "Requirement already satisfied: pandas>=0.24.0 in /usr/local/lib/python3.6/dist-packages (from catboost) (1.1.2)\n",
            "Requirement already satisfied: plotly in /usr/local/lib/python3.6/dist-packages (from catboost) (4.4.1)\n",
            "Requirement already satisfied: graphviz in /usr/local/lib/python3.6/dist-packages (from catboost) (0.10.1)\n",
            "Requirement already satisfied: pyparsing!=2.0.4,!=2.1.2,!=2.1.6,>=2.0.1 in /usr/local/lib/python3.6/dist-packages (from matplotlib->catboost) (2.4.7)\n",
            "Requirement already satisfied: kiwisolver>=1.0.1 in /usr/local/lib/python3.6/dist-packages (from matplotlib->catboost) (1.2.0)\n",
            "Requirement already satisfied: cycler>=0.10 in /usr/local/lib/python3.6/dist-packages (from matplotlib->catboost) (0.10.0)\n",
            "Requirement already satisfied: python-dateutil>=2.1 in /usr/local/lib/python3.6/dist-packages (from matplotlib->catboost) (2.8.1)\n",
            "Requirement already satisfied: pytz>=2017.2 in /usr/local/lib/python3.6/dist-packages (from pandas>=0.24.0->catboost) (2018.9)\n",
            "Requirement already satisfied: retrying>=1.3.3 in /usr/local/lib/python3.6/dist-packages (from plotly->catboost) (1.3.3)\n",
            "Requirement already satisfied: xgboost in /usr/local/lib/python3.6/dist-packages (0.90)\n",
            "Requirement already satisfied: numpy in /usr/local/lib/python3.6/dist-packages (from xgboost) (1.19.2)\n",
            "Requirement already satisfied: scipy in /usr/local/lib/python3.6/dist-packages (from xgboost) (1.5.2)\n",
            "/usr/local/lib/python3.6/dist-packages/pip/_internal/commands/install.py:283: UserWarning: Disabling all use of wheels due to the use of --build-options / --global-options / --install-options.\n",
            "  cmdoptions.check_install_build_global(options)\n",
            "Requirement already satisfied: lightgbm in /usr/local/lib/python3.6/dist-packages (2.2.3)\n",
            "Requirement already satisfied: numpy in /usr/local/lib/python3.6/dist-packages (from lightgbm) (1.19.2)\n",
            "Requirement already satisfied: scipy in /usr/local/lib/python3.6/dist-packages (from lightgbm) (1.5.2)\n",
            "Requirement already satisfied: scikit-learn in /usr/local/lib/python3.6/dist-packages (from lightgbm) (0.23.2)\n",
            "Requirement already satisfied: joblib>=0.11 in /usr/local/lib/python3.6/dist-packages (from scikit-learn->lightgbm) (0.16.0)\n",
            "Requirement already satisfied: threadpoolctl>=2.0.0 in /usr/local/lib/python3.6/dist-packages (from scikit-learn->lightgbm) (2.1.0)\n"
          ],
          "name": "stdout"
        }
      ]
    },
    {
      "cell_type": "code",
      "metadata": {
        "_uuid": "8f2839f25d086af736a60e9eeb907d3b93b6e0e5",
        "_cell_guid": "b1076dfc-b9ad-4769-8c92-a6c4dae69d19",
        "trusted": true,
        "id": "urYsnVkW-ie6"
      },
      "source": [
        "# This Python 3 environment comes with many helpful analytics libraries installed\n",
        "# It is defined by the kaggle/python Docker image: https://github.com/kaggle/docker-python\n",
        "# For example, here's several helpful packages to load\n",
        "\n",
        "import numpy as np # linear algebra\n",
        "import pandas as pd # data processing, CSV file I/O (e.g. pd.read_csv)\n",
        "import random\n",
        "from tqdm import tqdm\n",
        "from sklearn.preprocessing import LabelEncoder\n",
        "import seaborn as sns\n",
        "import itertools\n",
        "import matplotlib.pyplot as plt\n",
        "from sklearn.neighbors import KNeighborsRegressor\n",
        "from lightgbm import LGBMRegressor\n",
        "import tensorflow as tf\n",
        "import time\n",
        "from tensorflow import keras\n",
        "from tensorflow.keras import layers\n",
        "from sklearn import svm\n",
        "from sklearn.neural_network import MLPRegressor\n",
        "from sklearn.linear_model import LinearRegression,ElasticNet\n",
        "from sklearn.ensemble import GradientBoostingRegressor,RandomForestRegressor\n",
        "from xgboost import XGBRegressor\n",
        "import pickle\n",
        "from catboost import CatBoostRegressor\n",
        "from sklearn.feature_extraction.text import TfidfVectorizer,CountVectorizer\n",
        "# Input data files are available in the read-only \"../input/\" directory\n",
        "# For example, running this (by clicking run or pressing Shift+Enter) will list all files under the input directory\n",
        "random.seed(30)\n",
        "import os\n",
        "for dirname, _, filenames in os.walk('/kaggle/input'):\n",
        "    for filename in filenames:\n",
        "        print(os.path.join(dirname, filename))\n",
        "\n",
        "# You can write up to 5GB to the current directory (/kaggle/working/) that gets preserved as output when you create a version using \"Save & Run All\" \n",
        "# You can also write temporary files to /kaggle/temp/, but they won't be saved outside of the current session"
      ],
      "execution_count": 3,
      "outputs": []
    },
    {
      "cell_type": "code",
      "metadata": {
        "_uuid": "d629ff2d2480ee46fbb7e2d37f6b5fab8052498a",
        "_cell_guid": "79c7e3d0-c299-4dcb-8224-4455121ee9b0",
        "trusted": true,
        "id": "w0XLnWo1-ifC"
      },
      "source": [
        "# load data\n",
        "items=pd.read_csv(\"/content/drive/My Drive/Final_Kaggle_Competition/data/items.csv\")\n",
        "shops=pd.read_csv(\"/content/drive/My Drive/Final_Kaggle_Competition/data/shops.csv\")\n",
        "cats=pd.read_csv(\"/content/drive/My Drive/Final_Kaggle_Competition/data/item_categories.csv\")\n",
        "train=pd.read_csv(\"/content/drive/My Drive/Final_Kaggle_Competition/data/sales_train.csv\")\n",
        "test=pd.read_csv(\"/content/drive/My Drive/Final_Kaggle_Competition/data/test.csv\")"
      ],
      "execution_count": 15,
      "outputs": []
    },
    {
      "cell_type": "code",
      "metadata": {
        "id": "4FCjMphRlQei",
        "outputId": "5a960e63-e081-4677-bbdc-aef050f9069e",
        "colab": {
          "base_uri": "https://localhost:8080/",
          "height": 561
        }
      },
      "source": [
        "plt.figure(figsize=(10,4))\n",
        "plt.xlim(-100, 3000)\n",
        "flierprops = dict(marker='o', markerfacecolor='purple', markersize=6,\n",
        "                  linestyle='none', markeredgecolor='black')\n",
        "sns.boxplot(x=train.item_cnt_day, flierprops=flierprops)\n",
        "\n",
        "plt.figure(figsize=(10,4))\n",
        "plt.xlim(train.item_price.min(), train.item_price.max()*1.1)\n",
        "sns.boxplot(x=train.item_price, flierprops=flierprops)"
      ],
      "execution_count": null,
      "outputs": [
        {
          "output_type": "execute_result",
          "data": {
            "text/plain": [
              "<matplotlib.axes._subplots.AxesSubplot at 0x7fe7c955fef0>"
            ]
          },
          "metadata": {
            "tags": []
          },
          "execution_count": 57
        },
        {
          "output_type": "display_data",
          "data": {
            "image/png": "[encoded data removed]",
            "text/plain": [
              "<Figure size 720x288 with 1 Axes>"
            ]
          },
          "metadata": {
            "tags": [],
            "needs_background": "light"
          }
        },
        {
          "output_type": "display_data",
          "data": {
            "image/png": "[encoded data removed]",
            "text/plain": [
              "<Figure size 720x288 with 1 Axes>"
            ]
          },
          "metadata": {
            "tags": [],
            "needs_background": "light"
          }
        }
      ]
    },
    {
      "cell_type": "code",
      "metadata": {
        "id": "csxGVRYvlTAB"
      },
      "source": [
        "train = train[(train.item_price < 300000 )& (train.item_cnt_day < 1000)]"
      ],
      "execution_count": null,
      "outputs": []
    },
    {
      "cell_type": "code",
      "metadata": {
        "id": "xVnf9F_hlTkB"
      },
      "source": [
        "train = train[train.item_price > 0].reset_index(drop = True)\n",
        "train.loc[train.item_cnt_day < 1, \"item_cnt_day\"] = 0"
      ],
      "execution_count": null,
      "outputs": []
    },
    {
      "cell_type": "code",
      "metadata": {
        "id": "64LlJV5UlVjU"
      },
      "source": [
        "# Якутск Орджоникидзе, 56\n",
        "train.loc[train.shop_id == 0, 'shop_id'] = 57\n",
        "test.loc[test.shop_id == 0, 'shop_id'] = 57\n",
        "# Якутск ТЦ \"Центральный\"\n",
        "train.loc[train.shop_id == 1, 'shop_id'] = 58\n",
        "test.loc[test.shop_id == 1, 'shop_id'] = 58\n",
        "# Жуковский ул. Чкалова 39м²\n",
        "train.loc[train.shop_id == 10, 'shop_id'] = 11\n",
        "test.loc[test.shop_id == 10, 'shop_id'] = 11"
      ],
      "execution_count": null,
      "outputs": []
    },
    {
      "cell_type": "code",
      "metadata": {
        "id": "iID-raiAlYVy"
      },
      "source": [
        "shops.loc[ shops.shop_name == 'Сергиев Посад ТЦ \"7Я\"',\"shop_name\" ] = 'СергиевПосад ТЦ \"7Я\"'\n",
        "shops[\"city\"] = shops.shop_name.str.split(\" \").map( lambda x: x[0] )\n",
        "shops[\"category\"] = shops.shop_name.str.split(\" \").map( lambda x: x[1] )\n",
        "shops.loc[shops.city == \"!Якутск\", \"city\"] = \"Якутск\""
      ],
      "execution_count": null,
      "outputs": []
    },
    {
      "cell_type": "code",
      "metadata": {
        "id": "jDyDfRtElZ_l"
      },
      "source": [
        "category = []\n",
        "for cat in shops.category.unique():\n",
        "    if len(shops[shops.category == cat]) >= 5:\n",
        "        category.append(cat)\n",
        "shops.category = shops.category.apply( lambda x: x if (x in category) else \"other\" )"
      ],
      "execution_count": null,
      "outputs": []
    },
    {
      "cell_type": "code",
      "metadata": {
        "id": "8zQpbYsDlbSy"
      },
      "source": [
        "from sklearn.preprocessing import LabelEncoder\n",
        "shops[\"shop_category\"] = LabelEncoder().fit_transform( shops.category )\n",
        "shops[\"shop_city\"] = LabelEncoder().fit_transform( shops.city )\n",
        "shops = shops[[\"shop_id\", \"shop_category\", \"shop_city\"]]"
      ],
      "execution_count": null,
      "outputs": []
    },
    {
      "cell_type": "code",
      "metadata": {
        "id": "bS7RlZZmlckP",
        "outputId": "990ba32c-6ea2-47cb-c9ec-8b51ce419b90",
        "colab": {
          "base_uri": "https://localhost:8080/",
          "height": 189
        }
      },
      "source": [
        "cats.head()"
      ],
      "execution_count": null,
      "outputs": [
        {
          "output_type": "execute_result",
          "data": {
            "text/html": [
              "<div>\n",
              "<style scoped>\n",
              "    .dataframe tbody tr th:only-of-type {\n",
              "        vertical-align: middle;\n",
              "    }\n",
              "\n",
              "    .dataframe tbody tr th {\n",
              "        vertical-align: top;\n",
              "    }\n",
              "\n",
              "    .dataframe thead th {\n",
              "        text-align: right;\n",
              "    }\n",
              "</style>\n",
              "<table border=\"1\" class=\"dataframe\">\n",
              "  <thead>\n",
              "    <tr style=\"text-align: right;\">\n",
              "      <th></th>\n",
              "      <th>item_category_name</th>\n",
              "      <th>item_category_id</th>\n",
              "    </tr>\n",
              "  </thead>\n",
              "  <tbody>\n",
              "    <tr>\n",
              "      <th>0</th>\n",
              "      <td>PC - Гарнитуры/Наушники</td>\n",
              "      <td>0</td>\n",
              "    </tr>\n",
              "    <tr>\n",
              "      <th>1</th>\n",
              "      <td>Аксессуары - PS2</td>\n",
              "      <td>1</td>\n",
              "    </tr>\n",
              "    <tr>\n",
              "      <th>2</th>\n",
              "      <td>Аксессуары - PS3</td>\n",
              "      <td>2</td>\n",
              "    </tr>\n",
              "    <tr>\n",
              "      <th>3</th>\n",
              "      <td>Аксессуары - PS4</td>\n",
              "      <td>3</td>\n",
              "    </tr>\n",
              "    <tr>\n",
              "      <th>4</th>\n",
              "      <td>Аксессуары - PSP</td>\n",
              "      <td>4</td>\n",
              "    </tr>\n",
              "  </tbody>\n",
              "</table>\n",
              "</div>"
            ],
            "text/plain": [
              "        item_category_name  item_category_id\n",
              "0  PC - Гарнитуры/Наушники                 0\n",
              "1         Аксессуары - PS2                 1\n",
              "2         Аксессуары - PS3                 2\n",
              "3         Аксессуары - PS4                 3\n",
              "4         Аксессуары - PSP                 4"
            ]
          },
          "metadata": {
            "tags": []
          },
          "execution_count": 64
        }
      ]
    },
    {
      "cell_type": "code",
      "metadata": {
        "id": "DSAitDYPleWx"
      },
      "source": [
        "cats[\"type_code\"] = cats.item_category_name.apply( lambda x: x.split(\" \")[0] ).astype(str)\n",
        "cats.loc[ (cats.type_code == \"Игровые\")| (cats.type_code == \"Аксессуары\"), \"category\" ] = \"Игры\""
      ],
      "execution_count": null,
      "outputs": []
    },
    {
      "cell_type": "code",
      "metadata": {
        "id": "PHfZg49AljwX"
      },
      "source": [
        "category = []\n",
        "for cat in cats.type_code.unique():\n",
        "    if len(cats[cats.type_code == cat]) >= 5: \n",
        "        category.append( cat )\n",
        "cats.type_code = cats.type_code.apply(lambda x: x if (x in category) else \"etc\")"
      ],
      "execution_count": null,
      "outputs": []
    },
    {
      "cell_type": "code",
      "metadata": {
        "id": "lwyirmt-llUm"
      },
      "source": [
        "cats.type_code = LabelEncoder().fit_transform(cats.type_code)\n",
        "cats[\"split\"] = cats.item_category_name.apply(lambda x: x.split(\"-\"))\n",
        "cats[\"subtype\"] = cats.split.apply(lambda x: x[1].strip() if len(x) > 1 else x[0].strip())\n",
        "cats[\"subtype_code\"] = LabelEncoder().fit_transform( cats[\"subtype\"] )\n",
        "cats = cats[[\"item_category_id\", \"subtype_code\", \"type_code\"]]"
      ],
      "execution_count": null,
      "outputs": []
    },
    {
      "cell_type": "code",
      "metadata": {
        "id": "hj3_ZFt4lnE6"
      },
      "source": [
        "import re\n",
        "def name_correction(x):\n",
        "    x = x.lower() # all letters lower case\n",
        "    x = x.partition('[')[0] # partition by square brackets\n",
        "    x = x.partition('(')[0] # partition by curly brackets\n",
        "    x = re.sub('[^A-Za-z0-9А-Яа-я]+', ' ', x) # remove special characters\n",
        "    x = x.replace('  ', ' ') # replace double spaces with single spaces\n",
        "    x = x.strip() # remove leading and trailing white space\n",
        "    return x"
      ],
      "execution_count": null,
      "outputs": []
    },
    {
      "cell_type": "code",
      "metadata": {
        "id": "rmWB11Fblo9a",
        "outputId": "f082d247-5bc3-4238-ebd5-d7326e4d7522",
        "colab": {
          "base_uri": "https://localhost:8080/",
          "height": 189
        }
      },
      "source": [
        "items.head()"
      ],
      "execution_count": null,
      "outputs": [
        {
          "output_type": "execute_result",
          "data": {
            "text/html": [
              "<div>\n",
              "<style scoped>\n",
              "    .dataframe tbody tr th:only-of-type {\n",
              "        vertical-align: middle;\n",
              "    }\n",
              "\n",
              "    .dataframe tbody tr th {\n",
              "        vertical-align: top;\n",
              "    }\n",
              "\n",
              "    .dataframe thead th {\n",
              "        text-align: right;\n",
              "    }\n",
              "</style>\n",
              "<table border=\"1\" class=\"dataframe\">\n",
              "  <thead>\n",
              "    <tr style=\"text-align: right;\">\n",
              "      <th></th>\n",
              "      <th>item_name</th>\n",
              "      <th>item_id</th>\n",
              "      <th>item_category_id</th>\n",
              "    </tr>\n",
              "  </thead>\n",
              "  <tbody>\n",
              "    <tr>\n",
              "      <th>0</th>\n",
              "      <td>! ВО ВЛАСТИ НАВАЖДЕНИЯ (ПЛАСТ.)         D</td>\n",
              "      <td>0</td>\n",
              "      <td>40</td>\n",
              "    </tr>\n",
              "    <tr>\n",
              "      <th>1</th>\n",
              "      <td>!ABBYY FineReader 12 Professional Edition Full...</td>\n",
              "      <td>1</td>\n",
              "      <td>76</td>\n",
              "    </tr>\n",
              "    <tr>\n",
              "      <th>2</th>\n",
              "      <td>***В ЛУЧАХ СЛАВЫ   (UNV)                    D</td>\n",
              "      <td>2</td>\n",
              "      <td>40</td>\n",
              "    </tr>\n",
              "    <tr>\n",
              "      <th>3</th>\n",
              "      <td>***ГОЛУБАЯ ВОЛНА  (Univ)                      D</td>\n",
              "      <td>3</td>\n",
              "      <td>40</td>\n",
              "    </tr>\n",
              "    <tr>\n",
              "      <th>4</th>\n",
              "      <td>***КОРОБКА (СТЕКЛО)                       D</td>\n",
              "      <td>4</td>\n",
              "      <td>40</td>\n",
              "    </tr>\n",
              "  </tbody>\n",
              "</table>\n",
              "</div>"
            ],
            "text/plain": [
              "                                           item_name  item_id  item_category_id\n",
              "0          ! ВО ВЛАСТИ НАВАЖДЕНИЯ (ПЛАСТ.)         D        0                40\n",
              "1  !ABBYY FineReader 12 Professional Edition Full...        1                76\n",
              "2      ***В ЛУЧАХ СЛАВЫ   (UNV)                    D        2                40\n",
              "3    ***ГОЛУБАЯ ВОЛНА  (Univ)                      D        3                40\n",
              "4        ***КОРОБКА (СТЕКЛО)                       D        4                40"
            ]
          },
          "metadata": {
            "tags": []
          },
          "execution_count": 69
        }
      ]
    },
    {
      "cell_type": "code",
      "metadata": {
        "id": "LCZ8i93ilrEX",
        "outputId": "831d3fcf-68e5-4296-ad98-e4e5e5eaad5b",
        "colab": {
          "base_uri": "https://localhost:8080/",
          "height": 88
        }
      },
      "source": [
        "# split item names by first bracket\n",
        "items[\"name1\"], items[\"name2\"] = items.item_name.str.split(\"[\", 1).str\n",
        "items[\"name1\"], items[\"name3\"] = items.item_name.str.split(\"(\", 1).str\n",
        "\n",
        "# replace special characters and turn to lower case\n",
        "items[\"name2\"] = items.name2.str.replace('[^A-Za-z0-9А-Яа-я]+', \" \").str.lower()\n",
        "items[\"name3\"] = items.name3.str.replace('[^A-Za-z0-9А-Яа-я]+', \" \").str.lower()\n",
        "\n",
        "# fill nulls with '0'\n",
        "items = items.fillna('0')\n",
        "\n",
        "items[\"item_name\"] = items[\"item_name\"].apply(lambda x: name_correction(x))\n",
        "\n",
        "# return all characters except the last if name 2 is not \"0\" - the closing bracket\n",
        "items.name2 = items.name2.apply( lambda x: x[:-1] if x !=\"0\" else \"0\")"
      ],
      "execution_count": null,
      "outputs": [
        {
          "output_type": "stream",
          "text": [
            "/usr/local/lib/python3.6/dist-packages/ipykernel_launcher.py:2: FutureWarning: Columnar iteration over characters will be deprecated in future releases.\n",
            "  \n",
            "/usr/local/lib/python3.6/dist-packages/ipykernel_launcher.py:3: FutureWarning: Columnar iteration over characters will be deprecated in future releases.\n",
            "  This is separate from the ipykernel package so we can avoid doing imports until\n"
          ],
          "name": "stderr"
        }
      ]
    },
    {
      "cell_type": "code",
      "metadata": {
        "id": "2dC1b8Vylsan"
      },
      "source": [
        "items[\"type\"] = items.name2.apply(lambda x: x[0:8] if x.split(\" \")[0] == \"xbox\" else x.split(\" \")[0] )\n",
        "items.loc[(items.type == \"x360\") | (items.type == \"xbox360\") | (items.type == \"xbox 360\") ,\"type\"] = \"xbox 360\"\n",
        "items.loc[ items.type == \"\", \"type\"] = \"mac\"\n",
        "items.type = items.type.apply( lambda x: x.replace(\" \", \"\") )\n",
        "items.loc[ (items.type == 'pc' )| (items.type == 'pс') | (items.type == \"pc\"), \"type\" ] = \"pc\"\n",
        "items.loc[ items.type == 'рs3' , \"type\"] = \"ps3\""
      ],
      "execution_count": null,
      "outputs": []
    },
    {
      "cell_type": "code",
      "metadata": {
        "id": "WBksAXQZltz-",
        "outputId": "f628ced9-1a4d-4bd6-c649-72f87ebdd480",
        "colab": {
          "base_uri": "https://localhost:8080/",
          "height": 124
        }
      },
      "source": [
        "group_sum = items.groupby([\"type\"]).agg({\"item_id\": \"count\"})\n",
        "group_sum = group_sum.reset_index()\n",
        "print(group_sum.head())\n",
        "drop_cols = []\n",
        "for cat in group_sum.type.unique():\n",
        "    if group_sum.loc[(group_sum.type == cat), \"item_id\"].values[0] <40:\n",
        "        drop_cols.append(cat)\n",
        "items.name2 = items.name2.apply( lambda x: \"other\" if (x in drop_cols) else x )\n",
        "items = items.drop([\"type\"], axis = 1)"
      ],
      "execution_count": null,
      "outputs": [
        {
          "output_type": "stream",
          "text": [
            "  type  item_id\n",
            "0    0    17661\n",
            "1  5c5        1\n",
            "2  5c7        2\n",
            "3  5f4        1\n",
            "4  6dv        1\n"
          ],
          "name": "stdout"
        }
      ]
    },
    {
      "cell_type": "code",
      "metadata": {
        "id": "9ICNdZhdlvWY",
        "outputId": "a282d0c1-f387-4c2a-ebed-fbdc1eab0b8b",
        "colab": {
          "base_uri": "https://localhost:8080/",
          "height": 189
        }
      },
      "source": [
        "items.name2 = LabelEncoder().fit_transform(items.name2)\n",
        "items.name3 = LabelEncoder().fit_transform(items.name3)\n",
        "\n",
        "items.drop([\"item_name\", \"name1\"],axis = 1, inplace= True)\n",
        "items.head()"
      ],
      "execution_count": null,
      "outputs": [
        {
          "output_type": "execute_result",
          "data": {
            "text/html": [
              "<div>\n",
              "<style scoped>\n",
              "    .dataframe tbody tr th:only-of-type {\n",
              "        vertical-align: middle;\n",
              "    }\n",
              "\n",
              "    .dataframe tbody tr th {\n",
              "        vertical-align: top;\n",
              "    }\n",
              "\n",
              "    .dataframe thead th {\n",
              "        text-align: right;\n",
              "    }\n",
              "</style>\n",
              "<table border=\"1\" class=\"dataframe\">\n",
              "  <thead>\n",
              "    <tr style=\"text-align: right;\">\n",
              "      <th></th>\n",
              "      <th>item_id</th>\n",
              "      <th>item_category_id</th>\n",
              "      <th>name2</th>\n",
              "      <th>name3</th>\n",
              "    </tr>\n",
              "  </thead>\n",
              "  <tbody>\n",
              "    <tr>\n",
              "      <th>0</th>\n",
              "      <td>0</td>\n",
              "      <td>40</td>\n",
              "      <td>4</td>\n",
              "      <td>1331</td>\n",
              "    </tr>\n",
              "    <tr>\n",
              "      <th>1</th>\n",
              "      <td>1</td>\n",
              "      <td>76</td>\n",
              "      <td>64</td>\n",
              "      <td>42</td>\n",
              "    </tr>\n",
              "    <tr>\n",
              "      <th>2</th>\n",
              "      <td>2</td>\n",
              "      <td>40</td>\n",
              "      <td>4</td>\n",
              "      <td>1011</td>\n",
              "    </tr>\n",
              "    <tr>\n",
              "      <th>3</th>\n",
              "      <td>3</td>\n",
              "      <td>40</td>\n",
              "      <td>4</td>\n",
              "      <td>1010</td>\n",
              "    </tr>\n",
              "    <tr>\n",
              "      <th>4</th>\n",
              "      <td>4</td>\n",
              "      <td>40</td>\n",
              "      <td>4</td>\n",
              "      <td>1572</td>\n",
              "    </tr>\n",
              "  </tbody>\n",
              "</table>\n",
              "</div>"
            ],
            "text/plain": [
              "   item_id  item_category_id  name2  name3\n",
              "0        0                40      4   1331\n",
              "1        1                76     64     42\n",
              "2        2                40      4   1011\n",
              "3        3                40      4   1010\n",
              "4        4                40      4   1572"
            ]
          },
          "metadata": {
            "tags": []
          },
          "execution_count": 73
        }
      ]
    },
    {
      "cell_type": "code",
      "metadata": {
        "id": "QUz3Vmptl1Wn",
        "outputId": "6a458e4c-81b8-4016-d1cb-0463e4b809ef",
        "colab": {
          "base_uri": "https://localhost:8080/",
          "height": 34
        }
      },
      "source": [
        "from itertools import product\n",
        "import time\n",
        "ts = time.time()\n",
        "matrix = []\n",
        "cols  = [\"date_block_num\", \"shop_id\", \"item_id\"]\n",
        "for i in range(34):\n",
        "    sales = train[train.date_block_num == i]\n",
        "    matrix.append( np.array(list( product( [i], sales.shop_id.unique(), sales.item_id.unique() ) ), dtype = np.int16) )\n",
        "\n",
        "    \n",
        "    \n",
        "\n",
        "matrix = pd.DataFrame( np.vstack(matrix), columns = cols )\n",
        "matrix[\"date_block_num\"] = matrix[\"date_block_num\"].astype(np.int8)\n",
        "matrix[\"shop_id\"] = matrix[\"shop_id\"].astype(np.int8)\n",
        "matrix[\"item_id\"] = matrix[\"item_id\"].astype(np.int16)\n",
        "matrix.sort_values( cols, inplace = True )\n",
        "time.time()- ts"
      ],
      "execution_count": null,
      "outputs": [
        {
          "output_type": "execute_result",
          "data": {
            "text/plain": [
              "10.321164846420288"
            ]
          },
          "metadata": {
            "tags": []
          },
          "execution_count": 74
        }
      ]
    },
    {
      "cell_type": "code",
      "metadata": {
        "id": "J-OKoMoJl4Co"
      },
      "source": [
        "# add revenue to train df\n",
        "train[\"revenue\"] = train[\"item_cnt_day\"] * train[\"item_price\"]"
      ],
      "execution_count": null,
      "outputs": []
    },
    {
      "cell_type": "code",
      "metadata": {
        "id": "gBqlWdESl5cj",
        "outputId": "81327070-eba7-411c-c5a2-458f72b94307",
        "colab": {
          "base_uri": "https://localhost:8080/",
          "height": 34
        }
      },
      "source": [
        "ts = time.time()\n",
        "group = train.groupby( [\"date_block_num\", \"shop_id\", \"item_id\"] ).agg( {\"item_cnt_day\": [\"sum\"]} )\n",
        "group.columns = [\"item_cnt_month\"]\n",
        "group.reset_index( inplace = True)\n",
        "matrix = pd.merge( matrix, group, on = cols, how = \"left\" )\n",
        "matrix[\"item_cnt_month\"] = matrix[\"item_cnt_month\"].fillna(0).astype(np.float16)\n",
        "time.time() - ts"
      ],
      "execution_count": null,
      "outputs": [
        {
          "output_type": "execute_result",
          "data": {
            "text/plain": [
              "4.279648065567017"
            ]
          },
          "metadata": {
            "tags": []
          },
          "execution_count": 76
        }
      ]
    },
    {
      "cell_type": "code",
      "metadata": {
        "id": "qFYgoCA1l7HZ"
      },
      "source": [
        "test[\"date_block_num\"] = 34\n",
        "test[\"date_block_num\"] = test[\"date_block_num\"].astype(np.int8)\n",
        "test[\"shop_id\"] = test.shop_id.astype(np.int8)\n",
        "test[\"item_id\"] = test.item_id.astype(np.int16)"
      ],
      "execution_count": null,
      "outputs": []
    },
    {
      "cell_type": "code",
      "metadata": {
        "id": "d-CXUeBdl9mZ",
        "outputId": "789873dc-89fe-4be8-95ce-05388398fad4",
        "colab": {
          "base_uri": "https://localhost:8080/",
          "height": 34
        }
      },
      "source": [
        "ts = time.time()\n",
        "\n",
        "matrix = pd.concat([matrix, test.drop([\"ID\"],axis = 1)], ignore_index=True, sort=False, keys=cols)\n",
        "matrix.fillna( 0, inplace = True )\n",
        "time.time() - ts"
      ],
      "execution_count": null,
      "outputs": [
        {
          "output_type": "execute_result",
          "data": {
            "text/plain": [
              "0.07326269149780273"
            ]
          },
          "metadata": {
            "tags": []
          },
          "execution_count": 78
        }
      ]
    },
    {
      "cell_type": "code",
      "metadata": {
        "id": "K3PoLLkal_GZ",
        "outputId": "553d68b7-bc7e-480a-86d1-7f12f41de930",
        "colab": {
          "base_uri": "https://localhost:8080/",
          "height": 34
        }
      },
      "source": [
        "ts = time.time()\n",
        "matrix = pd.merge( matrix, shops, on = [\"shop_id\"], how = \"left\" )\n",
        "matrix = pd.merge(matrix, items, on = [\"item_id\"], how = \"left\")\n",
        "matrix = pd.merge( matrix, cats, on = [\"item_category_id\"], how = \"left\" )\n",
        "matrix[\"shop_city\"] = matrix[\"shop_city\"].astype(np.int8)\n",
        "matrix[\"shop_category\"] = matrix[\"shop_category\"].astype(np.int8)\n",
        "matrix[\"item_category_id\"] = matrix[\"item_category_id\"].astype(np.int8)\n",
        "matrix[\"subtype_code\"] = matrix[\"subtype_code\"].astype(np.int8)\n",
        "matrix[\"name2\"] = matrix[\"name2\"].astype(np.int8)\n",
        "matrix[\"name3\"] = matrix[\"name3\"].astype(np.int16)\n",
        "matrix[\"type_code\"] = matrix[\"type_code\"].astype(np.int8)\n",
        "time.time() - ts"
      ],
      "execution_count": null,
      "outputs": [
        {
          "output_type": "execute_result",
          "data": {
            "text/plain": [
              "3.555832624435425"
            ]
          },
          "metadata": {
            "tags": []
          },
          "execution_count": 79
        }
      ]
    },
    {
      "cell_type": "code",
      "metadata": {
        "id": "eOYPH2GRmAj6"
      },
      "source": [
        "# Define a lag feature function\n",
        "def lag_feature( df,lags, cols ):\n",
        "    for col in cols:\n",
        "        print(col)\n",
        "        tmp = df[[\"date_block_num\", \"shop_id\",\"item_id\",col ]]\n",
        "        for i in lags:\n",
        "            shifted = tmp.copy()\n",
        "            shifted.columns = [\"date_block_num\", \"shop_id\", \"item_id\", col + \"_lag_\"+str(i)]\n",
        "            shifted.date_block_num = shifted.date_block_num + i\n",
        "            df = pd.merge(df, shifted, on=['date_block_num','shop_id','item_id'], how='left')\n",
        "    return df"
      ],
      "execution_count": null,
      "outputs": []
    },
    {
      "cell_type": "code",
      "metadata": {
        "id": "taP2eNGNmChB",
        "outputId": "1ffbb86c-9b15-419b-87a5-617ee31b796c",
        "colab": {
          "base_uri": "https://localhost:8080/",
          "height": 52
        }
      },
      "source": [
        "ts = time.time()\n",
        "matrix = lag_feature( matrix, [1,2,3], [\"item_cnt_month\"] )\n",
        "time.time() - ts"
      ],
      "execution_count": null,
      "outputs": [
        {
          "output_type": "stream",
          "text": [
            "item_cnt_month\n"
          ],
          "name": "stdout"
        },
        {
          "output_type": "execute_result",
          "data": {
            "text/plain": [
              "16.72842264175415"
            ]
          },
          "metadata": {
            "tags": []
          },
          "execution_count": 81
        }
      ]
    },
    {
      "cell_type": "code",
      "metadata": {
        "id": "o00VBfBumESN",
        "outputId": "c9443889-cbba-4481-8747-cfc3b530ef35",
        "colab": {
          "base_uri": "https://localhost:8080/",
          "height": 52
        }
      },
      "source": [
        "ts = time.time()\n",
        "group = matrix.groupby( [\"date_block_num\"] ).agg({\"item_cnt_month\" : [\"mean\"]})\n",
        "group.columns = [\"date_avg_item_cnt\"]\n",
        "group.reset_index(inplace = True)\n",
        "\n",
        "matrix = pd.merge(matrix, group, on = [\"date_block_num\"], how = \"left\")\n",
        "matrix.date_avg_item_cnt = matrix[\"date_avg_item_cnt\"].astype(np.float16)\n",
        "matrix = lag_feature( matrix, [1], [\"date_avg_item_cnt\"] )\n",
        "matrix.drop( [\"date_avg_item_cnt\"], axis = 1, inplace = True )\n",
        "time.time() - ts"
      ],
      "execution_count": null,
      "outputs": [
        {
          "output_type": "stream",
          "text": [
            "date_avg_item_cnt\n"
          ],
          "name": "stdout"
        },
        {
          "output_type": "execute_result",
          "data": {
            "text/plain": [
              "9.524376630783081"
            ]
          },
          "metadata": {
            "tags": []
          },
          "execution_count": 82
        }
      ]
    },
    {
      "cell_type": "code",
      "metadata": {
        "id": "P_M-CefGmJLR",
        "outputId": "560b0ef5-a61f-4efe-e8b3-dd81bfead1e8",
        "colab": {
          "base_uri": "https://localhost:8080/",
          "height": 52
        }
      },
      "source": [
        "ts = time.time()\n",
        "group = matrix.groupby(['date_block_num', 'item_id']).agg({'item_cnt_month': ['mean']})\n",
        "group.columns = [ 'date_item_avg_item_cnt' ]\n",
        "group.reset_index(inplace=True)\n",
        "matrix = pd.merge(matrix, group, on=['date_block_num','item_id'], how='left')\n",
        "matrix.date_item_avg_item_cnt = matrix['date_item_avg_item_cnt'].astype(np.float16)\n",
        "matrix = lag_feature(matrix, [1,2,3], ['date_item_avg_item_cnt'])\n",
        "matrix.drop(['date_item_avg_item_cnt'], axis=1, inplace=True)\n",
        "time.time() - ts"
      ],
      "execution_count": null,
      "outputs": [
        {
          "output_type": "stream",
          "text": [
            "date_item_avg_item_cnt\n"
          ],
          "name": "stdout"
        },
        {
          "output_type": "execute_result",
          "data": {
            "text/plain": [
              "21.788254022598267"
            ]
          },
          "metadata": {
            "tags": []
          },
          "execution_count": 83
        }
      ]
    },
    {
      "cell_type": "code",
      "metadata": {
        "id": "ehv3W3DGmKvg",
        "outputId": "5ad3c734-d9cb-450a-adc5-6fbaf805bbdf",
        "colab": {
          "base_uri": "https://localhost:8080/",
          "height": 108
        }
      },
      "source": [
        "ts = time.time()\n",
        "group = matrix.groupby( [\"date_block_num\",\"shop_id\"] ).agg({\"item_cnt_month\" : [\"mean\"]})\n",
        "group.columns = [\"date_shop_avg_item_cnt\"]\n",
        "group.reset_index(inplace = True)\n",
        "\n",
        "matrix = pd.merge(matrix, group, on = [\"date_block_num\",\"shop_id\"], how = \"left\")\n",
        "matrix.date_avg_item_cnt = matrix[\"date_shop_avg_item_cnt\"].astype(np.float16)\n",
        "matrix = lag_feature( matrix, [1,2,3], [\"date_shop_avg_item_cnt\"] )\n",
        "matrix.drop( [\"date_shop_avg_item_cnt\"], axis = 1, inplace = True )\n",
        "time.time() - ts"
      ],
      "execution_count": null,
      "outputs": [
        {
          "output_type": "stream",
          "text": [
            "/usr/local/lib/python3.6/dist-packages/ipykernel_launcher.py:7: UserWarning: Pandas doesn't allow columns to be created via a new attribute name - see https://pandas.pydata.org/pandas-docs/stable/indexing.html#attribute-access\n",
            "  import sys\n"
          ],
          "name": "stderr"
        },
        {
          "output_type": "stream",
          "text": [
            "date_shop_avg_item_cnt\n"
          ],
          "name": "stdout"
        },
        {
          "output_type": "execute_result",
          "data": {
            "text/plain": [
              "22.084373474121094"
            ]
          },
          "metadata": {
            "tags": []
          },
          "execution_count": 84
        }
      ]
    },
    {
      "cell_type": "code",
      "metadata": {
        "id": "mkBGct8amNR8",
        "outputId": "cfcb8da9-dd0e-4677-cd62-5def9ea739af",
        "colab": {
          "base_uri": "https://localhost:8080/",
          "height": 108
        }
      },
      "source": [
        "ts = time.time()\n",
        "group = matrix.groupby( [\"date_block_num\",\"shop_id\",\"item_id\"] ).agg({\"item_cnt_month\" : [\"mean\"]})\n",
        "group.columns = [\"date_shop_item_avg_item_cnt\"]\n",
        "group.reset_index(inplace = True)\n",
        "\n",
        "matrix = pd.merge(matrix, group, on = [\"date_block_num\",\"shop_id\",\"item_id\"], how = \"left\")\n",
        "matrix.date_avg_item_cnt = matrix[\"date_shop_item_avg_item_cnt\"].astype(np.float16)\n",
        "matrix = lag_feature( matrix, [1,2,3], [\"date_shop_item_avg_item_cnt\"] )\n",
        "matrix.drop( [\"date_shop_item_avg_item_cnt\"], axis = 1, inplace = True )\n",
        "time.time() - ts"
      ],
      "execution_count": null,
      "outputs": [
        {
          "output_type": "stream",
          "text": [
            "/usr/local/lib/python3.6/dist-packages/ipykernel_launcher.py:7: UserWarning: Pandas doesn't allow columns to be created via a new attribute name - see https://pandas.pydata.org/pandas-docs/stable/indexing.html#attribute-access\n",
            "  import sys\n"
          ],
          "name": "stderr"
        },
        {
          "output_type": "stream",
          "text": [
            "date_shop_item_avg_item_cnt\n"
          ],
          "name": "stdout"
        },
        {
          "output_type": "execute_result",
          "data": {
            "text/plain": [
              "30.246270179748535"
            ]
          },
          "metadata": {
            "tags": []
          },
          "execution_count": 85
        }
      ]
    },
    {
      "cell_type": "code",
      "metadata": {
        "id": "jqufyf__mN5I",
        "outputId": "da7295e5-5f51-488e-ea80-f1eb0d24a98c",
        "colab": {
          "base_uri": "https://localhost:8080/",
          "height": 52
        }
      },
      "source": [
        "ts = time.time()\n",
        "group = matrix.groupby(['date_block_num', 'shop_id', 'subtype_code']).agg({'item_cnt_month': ['mean']})\n",
        "group.columns = ['date_shop_subtype_avg_item_cnt']\n",
        "group.reset_index(inplace=True)\n",
        "\n",
        "matrix = pd.merge(matrix, group, on=['date_block_num', 'shop_id', 'subtype_code'], how='left')\n",
        "matrix.date_shop_subtype_avg_item_cnt = matrix['date_shop_subtype_avg_item_cnt'].astype(np.float16)\n",
        "matrix = lag_feature(matrix, [1], ['date_shop_subtype_avg_item_cnt'])\n",
        "matrix.drop(['date_shop_subtype_avg_item_cnt'], axis=1, inplace=True)\n",
        "time.time() - ts"
      ],
      "execution_count": null,
      "outputs": [
        {
          "output_type": "stream",
          "text": [
            "date_shop_subtype_avg_item_cnt\n"
          ],
          "name": "stdout"
        },
        {
          "output_type": "execute_result",
          "data": {
            "text/plain": [
              "11.998279571533203"
            ]
          },
          "metadata": {
            "tags": []
          },
          "execution_count": 86
        }
      ]
    },
    {
      "cell_type": "code",
      "metadata": {
        "id": "E3BMjtzomP3x",
        "outputId": "357430c3-58d9-4f4d-c9ce-db70d5a8c340",
        "colab": {
          "base_uri": "https://localhost:8080/",
          "height": 52
        }
      },
      "source": [
        "ts = time.time()\n",
        "group = matrix.groupby(['date_block_num', 'shop_city']).agg({'item_cnt_month': ['mean']})\n",
        "group.columns = ['date_city_avg_item_cnt']\n",
        "group.reset_index(inplace=True)\n",
        "\n",
        "matrix = pd.merge(matrix, group, on=['date_block_num', \"shop_city\"], how='left')\n",
        "matrix.date_city_avg_item_cnt = matrix['date_city_avg_item_cnt'].astype(np.float16)\n",
        "matrix = lag_feature(matrix, [1], ['date_city_avg_item_cnt'])\n",
        "matrix.drop(['date_city_avg_item_cnt'], axis=1, inplace=True)\n",
        "time.time() - ts"
      ],
      "execution_count": null,
      "outputs": [
        {
          "output_type": "stream",
          "text": [
            "date_city_avg_item_cnt\n"
          ],
          "name": "stdout"
        },
        {
          "output_type": "execute_result",
          "data": {
            "text/plain": [
              "12.027814865112305"
            ]
          },
          "metadata": {
            "tags": []
          },
          "execution_count": 87
        }
      ]
    },
    {
      "cell_type": "code",
      "metadata": {
        "id": "rl42tFEkmSdk",
        "outputId": "eb02e03e-80ff-49b0-f90c-acf71bb91b16",
        "colab": {
          "base_uri": "https://localhost:8080/",
          "height": 52
        }
      },
      "source": [
        "ts = time.time()\n",
        "group = matrix.groupby(['date_block_num', 'item_id', 'shop_city']).agg({'item_cnt_month': ['mean']})\n",
        "group.columns = [ 'date_item_city_avg_item_cnt' ]\n",
        "group.reset_index(inplace=True)\n",
        "\n",
        "matrix = pd.merge(matrix, group, on=['date_block_num', 'item_id', 'shop_city'], how='left')\n",
        "matrix.date_item_city_avg_item_cnt = matrix['date_item_city_avg_item_cnt'].astype(np.float16)\n",
        "matrix = lag_feature(matrix, [1], ['date_item_city_avg_item_cnt'])\n",
        "matrix.drop(['date_item_city_avg_item_cnt'], axis=1, inplace=True)\n",
        "time.time() - ts"
      ],
      "execution_count": null,
      "outputs": [
        {
          "output_type": "stream",
          "text": [
            "date_item_city_avg_item_cnt\n"
          ],
          "name": "stdout"
        },
        {
          "output_type": "execute_result",
          "data": {
            "text/plain": [
              "18.18524670600891"
            ]
          },
          "metadata": {
            "tags": []
          },
          "execution_count": 88
        }
      ]
    },
    {
      "cell_type": "code",
      "metadata": {
        "id": "EVX0PPwYmVAV",
        "outputId": "b995fdf0-0b0e-4578-99c2-4474e8e1fd8f",
        "colab": {
          "base_uri": "https://localhost:8080/",
          "height": 52
        }
      },
      "source": [
        "ts = time.time()\n",
        "group = train.groupby( [\"item_id\"] ).agg({\"item_price\": [\"mean\"]})\n",
        "group.columns = [\"item_avg_item_price\"]\n",
        "group.reset_index(inplace = True)\n",
        "\n",
        "matrix = matrix.merge( group, on = [\"item_id\"], how = \"left\" )\n",
        "matrix[\"item_avg_item_price\"] = matrix.item_avg_item_price.astype(np.float16)\n",
        "\n",
        "\n",
        "group = train.groupby( [\"date_block_num\",\"item_id\"] ).agg( {\"item_price\": [\"mean\"]} )\n",
        "group.columns = [\"date_item_avg_item_price\"]\n",
        "group.reset_index(inplace = True)\n",
        "\n",
        "matrix = matrix.merge(group, on = [\"date_block_num\",\"item_id\"], how = \"left\")\n",
        "matrix[\"date_item_avg_item_price\"] = matrix.date_item_avg_item_price.astype(np.float16)\n",
        "lags = [1, 2, 3]\n",
        "matrix = lag_feature( matrix, lags, [\"date_item_avg_item_price\"] )\n",
        "for i in lags:\n",
        "    matrix[\"delta_price_lag_\" + str(i) ] = (matrix[\"date_item_avg_item_price_lag_\" + str(i)]- matrix[\"item_avg_item_price\"] )/ matrix[\"item_avg_item_price\"]\n",
        "\n",
        "def select_trends(row) :\n",
        "    for i in lags:\n",
        "        if row[\"delta_price_lag_\" + str(i)]:\n",
        "            return row[\"delta_price_lag_\" + str(i)]\n",
        "    return 0\n",
        "\n",
        "matrix[\"delta_price_lag\"] = matrix.apply(select_trends, axis = 1)\n",
        "matrix[\"delta_price_lag\"] = matrix.delta_price_lag.astype( np.float16 )\n",
        "matrix[\"delta_price_lag\"].fillna( 0 ,inplace = True)\n",
        "\n",
        "features_to_drop = [\"item_avg_item_price\", \"date_item_avg_item_price\"]\n",
        "for i in lags:\n",
        "    features_to_drop.append(\"date_item_avg_item_price_lag_\" + str(i) )\n",
        "    features_to_drop.append(\"delta_price_lag_\" + str(i) )\n",
        "matrix.drop(features_to_drop, axis = 1, inplace = True)\n",
        "time.time() - ts"
      ],
      "execution_count": null,
      "outputs": [
        {
          "output_type": "stream",
          "text": [
            "date_item_avg_item_price\n"
          ],
          "name": "stdout"
        },
        {
          "output_type": "execute_result",
          "data": {
            "text/plain": [
              "276.6859645843506"
            ]
          },
          "metadata": {
            "tags": []
          },
          "execution_count": 89
        }
      ]
    },
    {
      "cell_type": "code",
      "metadata": {
        "id": "UsB4uh94mW75",
        "outputId": "fa2525ac-89b3-4cac-81cf-da690baac900",
        "colab": {
          "base_uri": "https://localhost:8080/",
          "height": 52
        }
      },
      "source": [
        "ts = time.time()\n",
        "group = train.groupby( [\"date_block_num\",\"shop_id\"] ).agg({\"revenue\": [\"sum\"] })\n",
        "group.columns = [\"date_shop_revenue\"]\n",
        "group.reset_index(inplace = True)\n",
        "\n",
        "matrix = matrix.merge( group , on = [\"date_block_num\", \"shop_id\"], how = \"left\" )\n",
        "matrix['date_shop_revenue'] = matrix['date_shop_revenue'].astype(np.float32)\n",
        "\n",
        "group = group.groupby([\"shop_id\"]).agg({ \"date_block_num\":[\"mean\"] })\n",
        "group.columns = [\"shop_avg_revenue\"]\n",
        "group.reset_index(inplace = True )\n",
        "\n",
        "matrix = matrix.merge( group, on = [\"shop_id\"], how = \"left\" )\n",
        "matrix[\"shop_avg_revenue\"] = matrix.shop_avg_revenue.astype(np.float32)\n",
        "matrix[\"delta_revenue\"] = (matrix['date_shop_revenue'] - matrix['shop_avg_revenue']) / matrix['shop_avg_revenue']\n",
        "matrix[\"delta_revenue\"] = matrix[\"delta_revenue\"]. astype(np.float32)\n",
        "\n",
        "matrix = lag_feature(matrix, [1], [\"delta_revenue\"])\n",
        "matrix[\"delta_revenue_lag_1\"] = matrix[\"delta_revenue_lag_1\"].astype(np.float32)\n",
        "matrix.drop( [\"date_shop_revenue\", \"shop_avg_revenue\", \"delta_revenue\"] ,axis = 1, inplace = True)\n",
        "time.time() - ts"
      ],
      "execution_count": null,
      "outputs": [
        {
          "output_type": "stream",
          "text": [
            "delta_revenue\n"
          ],
          "name": "stdout"
        },
        {
          "output_type": "execute_result",
          "data": {
            "text/plain": [
              "14.164898157119751"
            ]
          },
          "metadata": {
            "tags": []
          },
          "execution_count": 90
        }
      ]
    },
    {
      "cell_type": "code",
      "metadata": {
        "id": "FuP3N-1vmYl6"
      },
      "source": [
        "matrix[\"month\"] = matrix[\"date_block_num\"] % 12\n",
        "days = pd.Series([31,28,31,30,31,30,31,31,30,31,30,31])\n",
        "matrix[\"days\"] = matrix[\"month\"].map(days).astype(np.int8)"
      ],
      "execution_count": null,
      "outputs": []
    },
    {
      "cell_type": "code",
      "metadata": {
        "id": "607I2_mJmaCx",
        "outputId": "ea6f4f52-b350-4d89-b883-14064f676790",
        "colab": {
          "base_uri": "https://localhost:8080/",
          "height": 34
        }
      },
      "source": [
        "ts = time.time()\n",
        "matrix[\"item_shop_first_sale\"] = matrix[\"date_block_num\"] - matrix.groupby([\"item_id\",\"shop_id\"])[\"date_block_num\"].transform('min')\n",
        "matrix[\"item_first_sale\"] = matrix[\"date_block_num\"] - matrix.groupby([\"item_id\"])[\"date_block_num\"].transform('min')\n",
        "time.time() - ts"
      ],
      "execution_count": null,
      "outputs": [
        {
          "output_type": "execute_result",
          "data": {
            "text/plain": [
              "1.7323391437530518"
            ]
          },
          "metadata": {
            "tags": []
          },
          "execution_count": 92
        }
      ]
    },
    {
      "cell_type": "code",
      "metadata": {
        "id": "AkD07Zi1mt6x",
        "outputId": "9a0a32e3-fd18-4453-de1d-6a4f11362c7b",
        "colab": {
          "base_uri": "https://localhost:8080/",
          "height": 34
        }
      },
      "source": [
        "ts = time.time()\n",
        "matrix = matrix[matrix[\"date_block_num\"] > 3]\n",
        "time.time() - ts"
      ],
      "execution_count": null,
      "outputs": [
        {
          "output_type": "execute_result",
          "data": {
            "text/plain": [
              "0.9347133636474609"
            ]
          },
          "metadata": {
            "tags": []
          },
          "execution_count": 93
        }
      ]
    },
    {
      "cell_type": "code",
      "metadata": {
        "id": "gIfacMWUpnOO",
        "outputId": "75eed122-ad71-461a-aea8-b7c32d6474fc",
        "colab": {
          "base_uri": "https://localhost:8080/",
          "height": 34
        }
      },
      "source": [
        "import gc\n",
        "data = matrix.copy()\n",
        "del matrix\n",
        "gc.collect()"
      ],
      "execution_count": null,
      "outputs": [
        {
          "output_type": "execute_result",
          "data": {
            "text/plain": [
              "2682"
            ]
          },
          "metadata": {
            "tags": []
          },
          "execution_count": 94
        }
      ]
    },
    {
      "cell_type": "code",
      "metadata": {
        "id": "AXwZfHATs_DB"
      },
      "source": [
        "data.fillna(0,inplace=True)"
      ],
      "execution_count": null,
      "outputs": []
    },
    {
      "cell_type": "code",
      "metadata": {
        "id": "NbJiZSO-_wbK",
        "outputId": "cd235802-4a4d-414f-a1c5-3b20777afa03",
        "colab": {
          "base_uri": "https://localhost:8080/",
          "height": 171
        }
      },
      "source": [
        "data.to_csv('/content/drive/My Drive/Final_Kaggle_Competition/data/data.csv')"
      ],
      "execution_count": null,
      "outputs": [
        {
          "output_type": "error",
          "ename": "NameError",
          "evalue": "ignored",
          "traceback": [
            "\u001b[0;31m---------------------------------------------------------------------------\u001b[0m",
            "\u001b[0;31mNameError\u001b[0m                                 Traceback (most recent call last)",
            "\u001b[0;32m<ipython-input-5-20e848bf4bd9>\u001b[0m in \u001b[0;36m<module>\u001b[0;34m()\u001b[0m\n\u001b[0;32m----> 1\u001b[0;31m \u001b[0mdata\u001b[0m\u001b[0;34m.\u001b[0m\u001b[0mto_csv\u001b[0m\u001b[0;34m(\u001b[0m\u001b[0;34m'/content/drive/My Drive/Final_Kaggle_Competition/data/data.csv'\u001b[0m\u001b[0;34m)\u001b[0m\u001b[0;34m\u001b[0m\u001b[0;34m\u001b[0m\u001b[0m\n\u001b[0m",
            "\u001b[0;31mNameError\u001b[0m: name 'data' is not defined"
          ]
        }
      ]
    },
    {
      "cell_type": "code",
      "metadata": {
        "id": "ETv0xRnALibo"
      },
      "source": [
        "data=pd.read_csv('/content/drive/My Drive/Final_Kaggle_Competition/data/data.csv')"
      ],
      "execution_count": 4,
      "outputs": []
    },
    {
      "cell_type": "code",
      "metadata": {
        "id": "qnijmBECpnvT"
      },
      "source": [
        "X_train = data[data.date_block_num < 33].drop(['item_cnt_month'], axis=1)\n",
        "y_train = data[data.date_block_num < 33]['item_cnt_month'].astype(float)\n",
        "X_valid = data[data.date_block_num == 33].drop(['item_cnt_month'], axis=1)\n",
        "y_valid = data[data.date_block_num == 33]['item_cnt_month'].astype(float)\n",
        "X_test = data[data.date_block_num == 34].drop(['item_cnt_month'], axis=1)"
      ],
      "execution_count": 5,
      "outputs": []
    },
    {
      "cell_type": "code",
      "metadata": {
        "id": "XSXxJ409p1TQ"
      },
      "source": [
        "y_train = y_train.clip(0, 20)"
      ],
      "execution_count": 6,
      "outputs": []
    },
    {
      "cell_type": "code",
      "metadata": {
        "id": "Wy_5NjQ5wt_5",
        "outputId": "13b5eacc-ff44-4f8c-c144-6a18d8071ee8",
        "colab": {
          "base_uri": "https://localhost:8080/",
          "height": 34
        }
      },
      "source": [
        "import gc\n",
        "del data\n",
        "gc.collect()"
      ],
      "execution_count": 7,
      "outputs": [
        {
          "output_type": "execute_result",
          "data": {
            "text/plain": [
              "17"
            ]
          },
          "metadata": {
            "tags": []
          },
          "execution_count": 7
        }
      ]
    },
    {
      "cell_type": "code",
      "metadata": {
        "id": "FvPU4JoR6qgG"
      },
      "source": [
        "def build_model():\n",
        "  model = keras.Sequential([\n",
        "    layers.Dense(64, activation='relu', input_shape=(3,)),\n",
        "    layers.Dense(1)\n",
        "  ])\n",
        "\n",
        "  optimizer = tf.keras.optimizers.RMSprop(0.001)\n",
        "\n",
        "  model.compile(loss='mse',\n",
        "                optimizer=optimizer,\n",
        "                metrics=['mae', 'mse'])\n",
        "  return model"
      ],
      "execution_count": 9,
      "outputs": []
    },
    {
      "cell_type": "code",
      "metadata": {
        "id": "2RNlJ8Tt5gki"
      },
      "source": [
        "nn_keras=build_model()"
      ],
      "execution_count": 10,
      "outputs": []
    },
    {
      "cell_type": "markdown",
      "metadata": {
        "id": "1KUJWaAsCKwf"
      },
      "source": [
        "# A Simple Stack According to simple holdout scheme"
      ]
    },
    {
      "cell_type": "code",
      "metadata": {
        "id": "QU8LQaAC_5GA"
      },
      "source": [
        "class simple_stack(object):\n",
        "  def __init__(self,model_1,model_2,model_3,meta_model):\n",
        "    self.model_1=model_1\n",
        "    self.model_2=model_2\n",
        "    self.model_3=model_3\n",
        "    self._meta_model=meta_model\n",
        "  def fit(self,X_train,y_train,X_valid,y_valid):  \n",
        "    self.model_1.fit(X_train,y_train)\n",
        "    print('Model 1 Training Complete')\n",
        "    self.model_2.fit(X_train,y_train)\n",
        "    print('Model 2 Training Complete')\n",
        "    self.model_3.fit(X_train,y_train)\n",
        "    print('Model 3 Training Complete')\n",
        "    \n",
        "    Val_1,Val_2,Val_3=self.model_1.predict(X_valid),self.model_2.predict(X_valid),self.model_3.predict(X_valid)\n",
        "\n",
        "  \n",
        "    meta_X_val=np.column_stack((Val_1,Val_2,Val_3))\n",
        "    self._meta_model.fit(meta_X_val,y_valid,epochs=3)\n",
        "  def predict(self,X_test):\n",
        "    \n",
        "    test_1,test_2,test_3=self.model_1.predict(X_test),self.model_2.predict(X_test),self.model_3.predict(X_test)\n",
        "\n",
        "    meta_X_test=np.column_stack((test_1,test_2,test_3))\n",
        "    \n",
        "    y_predict=self._meta_model.predict(meta_X_test)\n",
        "    return y_predict"
      ],
      "execution_count": 11,
      "outputs": []
    },
    {
      "cell_type": "code",
      "metadata": {
        "id": "VYHYx5hBJBrv",
        "outputId": "47369d71-6519-4382-b0a5-9998e39b6b7e",
        "colab": {
          "base_uri": "https://localhost:8080/",
          "height": 1000
        }
      },
      "source": [
        "stack=simple_stack(model_1=LGBMRegressor(),model_2=CatBoostRegressor(iterations=1000, \n",
        "                           task_type=\"GPU\",verbose=True),model_3=XGBRegressor(tree_method='gpu_hist' ,gpu_id=0),meta_model=nn_keras)\n",
        "stack.fit(X_train,y_train,X_valid,y_valid)"
      ],
      "execution_count": 12,
      "outputs": [
        {
          "output_type": "stream",
          "text": [
            "Model 1 Training Complete\n",
            "Learning rate set to 0.102235\n",
            "0:\tlearn: 1.1746718\ttotal: 63.4ms\tremaining: 1m 3s\n",
            "1:\tlearn: 1.1386865\ttotal: 116ms\tremaining: 57.7s\n",
            "2:\tlearn: 1.1077560\ttotal: 167ms\tremaining: 55.5s\n",
            "3:\tlearn: 1.0819923\ttotal: 214ms\tremaining: 53.3s\n",
            "4:\tlearn: 1.0601609\ttotal: 271ms\tremaining: 53.9s\n",
            "5:\tlearn: 1.0415847\ttotal: 316ms\tremaining: 52.4s\n",
            "6:\tlearn: 1.0243758\ttotal: 363ms\tremaining: 51.5s\n",
            "7:\tlearn: 1.0106377\ttotal: 413ms\tremaining: 51.2s\n",
            "8:\tlearn: 0.9992256\ttotal: 458ms\tremaining: 50.5s\n",
            "9:\tlearn: 0.9895623\ttotal: 503ms\tremaining: 49.8s\n",
            "10:\tlearn: 0.9796667\ttotal: 549ms\tremaining: 49.3s\n",
            "11:\tlearn: 0.9724024\ttotal: 594ms\tremaining: 48.9s\n",
            "12:\tlearn: 0.9652702\ttotal: 642ms\tremaining: 48.7s\n",
            "13:\tlearn: 0.9588780\ttotal: 689ms\tremaining: 48.5s\n",
            "14:\tlearn: 0.9544001\ttotal: 740ms\tremaining: 48.6s\n",
            "15:\tlearn: 0.9506574\ttotal: 790ms\tremaining: 48.6s\n",
            "16:\tlearn: 0.9460881\ttotal: 836ms\tremaining: 48.3s\n",
            "17:\tlearn: 0.9428862\ttotal: 883ms\tremaining: 48.2s\n",
            "18:\tlearn: 0.9401285\ttotal: 929ms\tremaining: 48s\n",
            "19:\tlearn: 0.9377682\ttotal: 982ms\tremaining: 48.1s\n",
            "20:\tlearn: 0.9355181\ttotal: 1.03s\tremaining: 48s\n",
            "21:\tlearn: 0.9334488\ttotal: 1.07s\tremaining: 47.7s\n",
            "22:\tlearn: 0.9298168\ttotal: 1.12s\tremaining: 47.5s\n",
            "23:\tlearn: 0.9275555\ttotal: 1.18s\tremaining: 47.8s\n",
            "24:\tlearn: 0.9263720\ttotal: 1.22s\tremaining: 47.7s\n",
            "25:\tlearn: 0.9249295\ttotal: 1.27s\tremaining: 47.5s\n",
            "26:\tlearn: 0.9239218\ttotal: 1.32s\tremaining: 47.5s\n",
            "27:\tlearn: 0.9229411\ttotal: 1.37s\tremaining: 47.4s\n",
            "28:\tlearn: 0.9218952\ttotal: 1.42s\tremaining: 47.4s\n",
            "29:\tlearn: 0.9211167\ttotal: 1.47s\tremaining: 47.4s\n",
            "30:\tlearn: 0.9188121\ttotal: 1.52s\tremaining: 47.4s\n",
            "31:\tlearn: 0.9167412\ttotal: 1.56s\tremaining: 47.3s\n",
            "32:\tlearn: 0.9156197\ttotal: 1.61s\tremaining: 47.2s\n",
            "33:\tlearn: 0.9147792\ttotal: 1.66s\tremaining: 47.1s\n",
            "34:\tlearn: 0.9141910\ttotal: 1.71s\tremaining: 47.1s\n",
            "35:\tlearn: 0.9137649\ttotal: 1.76s\tremaining: 47.1s\n",
            "36:\tlearn: 0.9131564\ttotal: 1.81s\tremaining: 47.1s\n",
            "37:\tlearn: 0.9128200\ttotal: 1.85s\tremaining: 46.9s\n",
            "38:\tlearn: 0.9123402\ttotal: 1.9s\tremaining: 46.8s\n",
            "39:\tlearn: 0.9120840\ttotal: 1.94s\tremaining: 46.7s\n",
            "40:\tlearn: 0.9106268\ttotal: 2s\tremaining: 46.7s\n",
            "41:\tlearn: 0.9103328\ttotal: 2.05s\tremaining: 46.7s\n",
            "42:\tlearn: 0.9099202\ttotal: 2.09s\tremaining: 46.5s\n",
            "43:\tlearn: 0.9084770\ttotal: 2.15s\tremaining: 46.8s\n",
            "44:\tlearn: 0.9081927\ttotal: 2.2s\tremaining: 46.6s\n",
            "45:\tlearn: 0.9080419\ttotal: 2.24s\tremaining: 46.5s\n",
            "46:\tlearn: 0.9077639\ttotal: 2.28s\tremaining: 46.3s\n",
            "47:\tlearn: 0.9074525\ttotal: 2.33s\tremaining: 46.1s\n",
            "48:\tlearn: 0.9071876\ttotal: 2.37s\tremaining: 46.1s\n",
            "49:\tlearn: 0.9069644\ttotal: 2.42s\tremaining: 46s\n",
            "50:\tlearn: 0.9063259\ttotal: 2.46s\tremaining: 45.9s\n",
            "51:\tlearn: 0.9061269\ttotal: 2.51s\tremaining: 45.7s\n",
            "52:\tlearn: 0.9051131\ttotal: 2.55s\tremaining: 45.6s\n",
            "53:\tlearn: 0.9049302\ttotal: 2.61s\tremaining: 45.7s\n",
            "54:\tlearn: 0.9046829\ttotal: 2.65s\tremaining: 45.6s\n",
            "55:\tlearn: 0.9031280\ttotal: 2.7s\tremaining: 45.6s\n",
            "56:\tlearn: 0.9029123\ttotal: 2.75s\tremaining: 45.5s\n",
            "57:\tlearn: 0.9027093\ttotal: 2.81s\tremaining: 45.6s\n",
            "58:\tlearn: 0.9026227\ttotal: 2.85s\tremaining: 45.5s\n",
            "59:\tlearn: 0.9018815\ttotal: 2.9s\tremaining: 45.5s\n",
            "60:\tlearn: 0.9017277\ttotal: 2.95s\tremaining: 45.4s\n",
            "61:\tlearn: 0.9015191\ttotal: 2.99s\tremaining: 45.3s\n",
            "62:\tlearn: 0.9012600\ttotal: 3.04s\tremaining: 45.2s\n",
            "63:\tlearn: 0.9011416\ttotal: 3.09s\tremaining: 45.2s\n",
            "64:\tlearn: 0.9005587\ttotal: 3.13s\tremaining: 45.1s\n",
            "65:\tlearn: 0.9004421\ttotal: 3.19s\tremaining: 45.1s\n",
            "66:\tlearn: 0.9003540\ttotal: 3.23s\tremaining: 45.1s\n",
            "67:\tlearn: 0.9001987\ttotal: 3.28s\tremaining: 45s\n",
            "68:\tlearn: 0.8998855\ttotal: 3.33s\tremaining: 44.9s\n",
            "69:\tlearn: 0.8998659\ttotal: 3.37s\tremaining: 44.8s\n",
            "70:\tlearn: 0.8994684\ttotal: 3.41s\tremaining: 44.7s\n",
            "71:\tlearn: 0.8993967\ttotal: 3.46s\tremaining: 44.6s\n",
            "72:\tlearn: 0.8993341\ttotal: 3.5s\tremaining: 44.5s\n",
            "73:\tlearn: 0.8991208\ttotal: 3.55s\tremaining: 44.4s\n",
            "74:\tlearn: 0.8990660\ttotal: 3.59s\tremaining: 44.3s\n",
            "75:\tlearn: 0.8990086\ttotal: 3.64s\tremaining: 44.2s\n",
            "76:\tlearn: 0.8988928\ttotal: 3.69s\tremaining: 44.2s\n",
            "77:\tlearn: 0.8987636\ttotal: 3.73s\tremaining: 44.1s\n",
            "78:\tlearn: 0.8987510\ttotal: 3.77s\tremaining: 44s\n",
            "79:\tlearn: 0.8986462\ttotal: 3.83s\tremaining: 44s\n",
            "80:\tlearn: 0.8984341\ttotal: 3.87s\tremaining: 44s\n",
            "81:\tlearn: 0.8983676\ttotal: 3.92s\tremaining: 43.9s\n",
            "82:\tlearn: 0.8983184\ttotal: 3.97s\tremaining: 43.8s\n",
            "83:\tlearn: 0.8982632\ttotal: 4.01s\tremaining: 43.8s\n",
            "84:\tlearn: 0.8970965\ttotal: 4.06s\tremaining: 43.7s\n",
            "85:\tlearn: 0.8970123\ttotal: 4.1s\tremaining: 43.6s\n",
            "86:\tlearn: 0.8969429\ttotal: 4.14s\tremaining: 43.5s\n",
            "87:\tlearn: 0.8967003\ttotal: 4.2s\tremaining: 43.5s\n",
            "88:\tlearn: 0.8965738\ttotal: 4.25s\tremaining: 43.5s\n",
            "89:\tlearn: 0.8964223\ttotal: 4.29s\tremaining: 43.4s\n",
            "90:\tlearn: 0.8963917\ttotal: 4.34s\tremaining: 43.4s\n",
            "91:\tlearn: 0.8963381\ttotal: 4.39s\tremaining: 43.3s\n",
            "92:\tlearn: 0.8962951\ttotal: 4.43s\tremaining: 43.2s\n",
            "93:\tlearn: 0.8962595\ttotal: 4.48s\tremaining: 43.2s\n",
            "94:\tlearn: 0.8962350\ttotal: 4.53s\tremaining: 43.2s\n",
            "95:\tlearn: 0.8961471\ttotal: 4.58s\tremaining: 43.1s\n",
            "96:\tlearn: 0.8960852\ttotal: 4.63s\tremaining: 43.1s\n",
            "97:\tlearn: 0.8959630\ttotal: 4.67s\tremaining: 43s\n",
            "98:\tlearn: 0.8959178\ttotal: 4.72s\tremaining: 43s\n",
            "99:\tlearn: 0.8957423\ttotal: 4.77s\tremaining: 42.9s\n",
            "100:\tlearn: 0.8951177\ttotal: 4.81s\tremaining: 42.9s\n",
            "101:\tlearn: 0.8950249\ttotal: 4.87s\tremaining: 42.8s\n",
            "102:\tlearn: 0.8949017\ttotal: 4.92s\tremaining: 42.8s\n",
            "103:\tlearn: 0.8948513\ttotal: 4.96s\tremaining: 42.8s\n",
            "104:\tlearn: 0.8948085\ttotal: 5.01s\tremaining: 42.7s\n",
            "105:\tlearn: 0.8947416\ttotal: 5.05s\tremaining: 42.6s\n",
            "106:\tlearn: 0.8946628\ttotal: 5.1s\tremaining: 42.6s\n",
            "107:\tlearn: 0.8943533\ttotal: 5.15s\tremaining: 42.5s\n",
            "108:\tlearn: 0.8942988\ttotal: 5.2s\tremaining: 42.5s\n",
            "109:\tlearn: 0.8941229\ttotal: 5.25s\tremaining: 42.5s\n",
            "110:\tlearn: 0.8939062\ttotal: 5.29s\tremaining: 42.4s\n",
            "111:\tlearn: 0.8926233\ttotal: 5.34s\tremaining: 42.3s\n",
            "112:\tlearn: 0.8924119\ttotal: 5.39s\tremaining: 42.3s\n",
            "113:\tlearn: 0.8923645\ttotal: 5.43s\tremaining: 42.2s\n",
            "114:\tlearn: 0.8923054\ttotal: 5.48s\tremaining: 42.2s\n",
            "115:\tlearn: 0.8922837\ttotal: 5.53s\tremaining: 42.1s\n",
            "116:\tlearn: 0.8922539\ttotal: 5.57s\tremaining: 42.1s\n",
            "117:\tlearn: 0.8921500\ttotal: 5.62s\tremaining: 42s\n",
            "118:\tlearn: 0.8921117\ttotal: 5.67s\tremaining: 42s\n",
            "119:\tlearn: 0.8920695\ttotal: 5.71s\tremaining: 41.9s\n",
            "120:\tlearn: 0.8920341\ttotal: 5.75s\tremaining: 41.8s\n",
            "121:\tlearn: 0.8919046\ttotal: 5.8s\tremaining: 41.7s\n",
            "122:\tlearn: 0.8918854\ttotal: 5.85s\tremaining: 41.7s\n",
            "123:\tlearn: 0.8917291\ttotal: 5.91s\tremaining: 41.7s\n",
            "124:\tlearn: 0.8916483\ttotal: 5.95s\tremaining: 41.6s\n",
            "125:\tlearn: 0.8915698\ttotal: 5.99s\tremaining: 41.6s\n",
            "126:\tlearn: 0.8914643\ttotal: 6.04s\tremaining: 41.5s\n",
            "127:\tlearn: 0.8914216\ttotal: 6.08s\tremaining: 41.4s\n",
            "128:\tlearn: 0.8913843\ttotal: 6.13s\tremaining: 41.4s\n",
            "129:\tlearn: 0.8913115\ttotal: 6.18s\tremaining: 41.4s\n",
            "130:\tlearn: 0.8912505\ttotal: 6.23s\tremaining: 41.3s\n",
            "131:\tlearn: 0.8912286\ttotal: 6.28s\tremaining: 41.3s\n",
            "132:\tlearn: 0.8911783\ttotal: 6.32s\tremaining: 41.2s\n",
            "133:\tlearn: 0.8911236\ttotal: 6.37s\tremaining: 41.1s\n",
            "134:\tlearn: 0.8910791\ttotal: 6.41s\tremaining: 41.1s\n",
            "135:\tlearn: 0.8910480\ttotal: 6.46s\tremaining: 41s\n",
            "136:\tlearn: 0.8909934\ttotal: 6.5s\tremaining: 41s\n",
            "137:\tlearn: 0.8908885\ttotal: 6.55s\tremaining: 40.9s\n",
            "138:\tlearn: 0.8908582\ttotal: 6.6s\tremaining: 40.9s\n",
            "139:\tlearn: 0.8908161\ttotal: 6.66s\tremaining: 40.9s\n",
            "140:\tlearn: 0.8907543\ttotal: 6.71s\tremaining: 40.9s\n",
            "141:\tlearn: 0.8907327\ttotal: 6.76s\tremaining: 40.8s\n",
            "142:\tlearn: 0.8905827\ttotal: 6.8s\tremaining: 40.8s\n",
            "143:\tlearn: 0.8905116\ttotal: 6.86s\tremaining: 40.8s\n",
            "144:\tlearn: 0.8904506\ttotal: 6.91s\tremaining: 40.8s\n",
            "145:\tlearn: 0.8904328\ttotal: 6.96s\tremaining: 40.7s\n",
            "146:\tlearn: 0.8903137\ttotal: 7s\tremaining: 40.6s\n",
            "147:\tlearn: 0.8902625\ttotal: 7.05s\tremaining: 40.6s\n",
            "148:\tlearn: 0.8902279\ttotal: 7.1s\tremaining: 40.5s\n",
            "149:\tlearn: 0.8901915\ttotal: 7.14s\tremaining: 40.5s\n",
            "150:\tlearn: 0.8901764\ttotal: 7.19s\tremaining: 40.4s\n",
            "151:\tlearn: 0.8900907\ttotal: 7.24s\tremaining: 40.4s\n",
            "152:\tlearn: 0.8900645\ttotal: 7.28s\tremaining: 40.3s\n",
            "153:\tlearn: 0.8900245\ttotal: 7.33s\tremaining: 40.3s\n",
            "154:\tlearn: 0.8899814\ttotal: 7.38s\tremaining: 40.2s\n",
            "155:\tlearn: 0.8899132\ttotal: 7.42s\tremaining: 40.2s\n",
            "156:\tlearn: 0.8899027\ttotal: 7.47s\tremaining: 40.1s\n",
            "157:\tlearn: 0.8898927\ttotal: 7.52s\tremaining: 40.1s\n",
            "158:\tlearn: 0.8898504\ttotal: 7.57s\tremaining: 40s\n",
            "159:\tlearn: 0.8898196\ttotal: 7.61s\tremaining: 40s\n",
            "160:\tlearn: 0.8897928\ttotal: 7.66s\tremaining: 39.9s\n",
            "161:\tlearn: 0.8897589\ttotal: 7.71s\tremaining: 39.9s\n",
            "162:\tlearn: 0.8897510\ttotal: 7.75s\tremaining: 39.8s\n",
            "163:\tlearn: 0.8897438\ttotal: 7.8s\tremaining: 39.8s\n",
            "164:\tlearn: 0.8897388\ttotal: 7.84s\tremaining: 39.7s\n",
            "165:\tlearn: 0.8897237\ttotal: 7.9s\tremaining: 39.7s\n",
            "166:\tlearn: 0.8896680\ttotal: 7.95s\tremaining: 39.6s\n",
            "167:\tlearn: 0.8896136\ttotal: 7.99s\tremaining: 39.6s\n",
            "168:\tlearn: 0.8895495\ttotal: 8.04s\tremaining: 39.5s\n",
            "169:\tlearn: 0.8895458\ttotal: 8.09s\tremaining: 39.5s\n",
            "170:\tlearn: 0.8895409\ttotal: 8.13s\tremaining: 39.4s\n",
            "171:\tlearn: 0.8894745\ttotal: 8.18s\tremaining: 39.4s\n",
            "172:\tlearn: 0.8894241\ttotal: 8.23s\tremaining: 39.4s\n",
            "173:\tlearn: 0.8894104\ttotal: 8.28s\tremaining: 39.3s\n",
            "174:\tlearn: 0.8893528\ttotal: 8.33s\tremaining: 39.3s\n",
            "175:\tlearn: 0.8893256\ttotal: 8.38s\tremaining: 39.2s\n",
            "176:\tlearn: 0.8893216\ttotal: 8.43s\tremaining: 39.2s\n",
            "177:\tlearn: 0.8892710\ttotal: 8.47s\tremaining: 39.1s\n",
            "178:\tlearn: 0.8892243\ttotal: 8.53s\tremaining: 39.1s\n",
            "179:\tlearn: 0.8891854\ttotal: 8.57s\tremaining: 39.1s\n",
            "180:\tlearn: 0.8891691\ttotal: 8.62s\tremaining: 39s\n",
            "181:\tlearn: 0.8891346\ttotal: 8.66s\tremaining: 38.9s\n",
            "182:\tlearn: 0.8890924\ttotal: 8.71s\tremaining: 38.9s\n",
            "183:\tlearn: 0.8890657\ttotal: 8.76s\tremaining: 38.8s\n",
            "184:\tlearn: 0.8890328\ttotal: 8.8s\tremaining: 38.8s\n",
            "185:\tlearn: 0.8890160\ttotal: 8.85s\tremaining: 38.7s\n",
            "186:\tlearn: 0.8890017\ttotal: 8.9s\tremaining: 38.7s\n",
            "187:\tlearn: 0.8889819\ttotal: 8.94s\tremaining: 38.6s\n",
            "188:\tlearn: 0.8889698\ttotal: 8.99s\tremaining: 38.6s\n",
            "189:\tlearn: 0.8889614\ttotal: 9.03s\tremaining: 38.5s\n",
            "190:\tlearn: 0.8889449\ttotal: 9.08s\tremaining: 38.5s\n",
            "191:\tlearn: 0.8889183\ttotal: 9.12s\tremaining: 38.4s\n",
            "192:\tlearn: 0.8889114\ttotal: 9.17s\tremaining: 38.3s\n",
            "193:\tlearn: 0.8889051\ttotal: 9.22s\tremaining: 38.3s\n",
            "194:\tlearn: 0.8888890\ttotal: 9.27s\tremaining: 38.3s\n",
            "195:\tlearn: 0.8888857\ttotal: 9.32s\tremaining: 38.2s\n",
            "196:\tlearn: 0.8888825\ttotal: 9.36s\tremaining: 38.2s\n",
            "197:\tlearn: 0.8887840\ttotal: 9.41s\tremaining: 38.1s\n",
            "198:\tlearn: 0.8886612\ttotal: 9.47s\tremaining: 38.1s\n",
            "199:\tlearn: 0.8886016\ttotal: 9.51s\tremaining: 38.1s\n",
            "200:\tlearn: 0.8885530\ttotal: 9.56s\tremaining: 38s\n",
            "201:\tlearn: 0.8885331\ttotal: 9.61s\tremaining: 37.9s\n",
            "202:\tlearn: 0.8884969\ttotal: 9.65s\tremaining: 37.9s\n",
            "203:\tlearn: 0.8884659\ttotal: 9.7s\tremaining: 37.9s\n",
            "204:\tlearn: 0.8884181\ttotal: 9.75s\tremaining: 37.8s\n",
            "205:\tlearn: 0.8883460\ttotal: 9.79s\tremaining: 37.8s\n",
            "206:\tlearn: 0.8883063\ttotal: 9.84s\tremaining: 37.7s\n",
            "207:\tlearn: 0.8882755\ttotal: 9.89s\tremaining: 37.7s\n",
            "208:\tlearn: 0.8882513\ttotal: 9.94s\tremaining: 37.6s\n",
            "209:\tlearn: 0.8882271\ttotal: 9.99s\tremaining: 37.6s\n",
            "210:\tlearn: 0.8882068\ttotal: 10s\tremaining: 37.5s\n",
            "211:\tlearn: 0.8881864\ttotal: 10.1s\tremaining: 37.5s\n",
            "212:\tlearn: 0.8881740\ttotal: 10.1s\tremaining: 37.4s\n",
            "213:\tlearn: 0.8881648\ttotal: 10.2s\tremaining: 37.4s\n",
            "214:\tlearn: 0.8881571\ttotal: 10.2s\tremaining: 37.4s\n",
            "215:\tlearn: 0.8881501\ttotal: 10.3s\tremaining: 37.3s\n",
            "216:\tlearn: 0.8881455\ttotal: 10.3s\tremaining: 37.3s\n",
            "217:\tlearn: 0.8881405\ttotal: 10.4s\tremaining: 37.2s\n",
            "218:\tlearn: 0.8881373\ttotal: 10.4s\tremaining: 37.2s\n",
            "219:\tlearn: 0.8881340\ttotal: 10.5s\tremaining: 37.1s\n",
            "220:\tlearn: 0.8881315\ttotal: 10.5s\tremaining: 37.1s\n",
            "221:\tlearn: 0.8881289\ttotal: 10.6s\tremaining: 37.1s\n",
            "222:\tlearn: 0.8881280\ttotal: 10.6s\tremaining: 37s\n",
            "223:\tlearn: 0.8881258\ttotal: 10.7s\tremaining: 37s\n",
            "224:\tlearn: 0.8881258\ttotal: 10.7s\tremaining: 37s\n",
            "225:\tlearn: 0.8881242\ttotal: 10.8s\tremaining: 36.9s\n",
            "226:\tlearn: 0.8881240\ttotal: 10.8s\tremaining: 36.9s\n",
            "227:\tlearn: 0.8881235\ttotal: 10.9s\tremaining: 36.8s\n",
            "228:\tlearn: 0.8881229\ttotal: 10.9s\tremaining: 36.8s\n",
            "229:\tlearn: 0.8881225\ttotal: 11s\tremaining: 36.7s\n",
            "230:\tlearn: 0.8881222\ttotal: 11s\tremaining: 36.7s\n",
            "231:\tlearn: 0.8881226\ttotal: 11.1s\tremaining: 36.7s\n",
            "232:\tlearn: 0.8881223\ttotal: 11.1s\tremaining: 36.6s\n",
            "233:\tlearn: 0.8881217\ttotal: 11.2s\tremaining: 36.6s\n",
            "234:\tlearn: 0.8881221\ttotal: 11.2s\tremaining: 36.5s\n",
            "235:\tlearn: 0.8881220\ttotal: 11.3s\tremaining: 36.5s\n",
            "236:\tlearn: 0.8881216\ttotal: 11.3s\tremaining: 36.5s\n",
            "237:\tlearn: 0.8881220\ttotal: 11.4s\tremaining: 36.4s\n",
            "238:\tlearn: 0.8881224\ttotal: 11.4s\tremaining: 36.4s\n",
            "239:\tlearn: 0.8881221\ttotal: 11.5s\tremaining: 36.3s\n",
            "240:\tlearn: 0.8881224\ttotal: 11.5s\tremaining: 36.3s\n",
            "241:\tlearn: 0.8881221\ttotal: 11.6s\tremaining: 36.2s\n",
            "242:\tlearn: 0.8881221\ttotal: 11.6s\tremaining: 36.2s\n",
            "243:\tlearn: 0.8881220\ttotal: 11.7s\tremaining: 36.2s\n",
            "244:\tlearn: 0.8881221\ttotal: 11.7s\tremaining: 36.1s\n",
            "245:\tlearn: 0.8881220\ttotal: 11.8s\tremaining: 36.1s\n",
            "246:\tlearn: 0.8881221\ttotal: 11.8s\tremaining: 36s\n",
            "247:\tlearn: 0.8881216\ttotal: 11.9s\tremaining: 36s\n",
            "248:\tlearn: 0.8881216\ttotal: 11.9s\tremaining: 35.9s\n",
            "249:\tlearn: 0.8881215\ttotal: 12s\tremaining: 35.9s\n",
            "250:\tlearn: 0.8881213\ttotal: 12s\tremaining: 35.8s\n",
            "251:\tlearn: 0.8881213\ttotal: 12.1s\tremaining: 35.8s\n",
            "252:\tlearn: 0.8881210\ttotal: 12.1s\tremaining: 35.8s\n",
            "253:\tlearn: 0.8881210\ttotal: 12.2s\tremaining: 35.7s\n",
            "254:\tlearn: 0.8881209\ttotal: 12.2s\tremaining: 35.7s\n",
            "255:\tlearn: 0.8881202\ttotal: 12.3s\tremaining: 35.6s\n",
            "256:\tlearn: 0.8881202\ttotal: 12.3s\tremaining: 35.6s\n",
            "257:\tlearn: 0.8881201\ttotal: 12.4s\tremaining: 35.5s\n",
            "258:\tlearn: 0.8881200\ttotal: 12.4s\tremaining: 35.5s\n",
            "259:\tlearn: 0.8881200\ttotal: 12.5s\tremaining: 35.4s\n",
            "260:\tlearn: 0.8881200\ttotal: 12.5s\tremaining: 35.4s\n",
            "261:\tlearn: 0.8881200\ttotal: 12.6s\tremaining: 35.4s\n",
            "262:\tlearn: 0.8881200\ttotal: 12.6s\tremaining: 35.3s\n",
            "263:\tlearn: 0.8881201\ttotal: 12.6s\tremaining: 35.3s\n",
            "264:\tlearn: 0.8881202\ttotal: 12.7s\tremaining: 35.2s\n",
            "265:\tlearn: 0.8881195\ttotal: 12.7s\tremaining: 35.2s\n",
            "266:\tlearn: 0.8881193\ttotal: 12.8s\tremaining: 35.1s\n",
            "267:\tlearn: 0.8881195\ttotal: 12.8s\tremaining: 35.1s\n",
            "268:\tlearn: 0.8881196\ttotal: 12.9s\tremaining: 35s\n",
            "269:\tlearn: 0.8881193\ttotal: 12.9s\tremaining: 35s\n",
            "270:\tlearn: 0.8881196\ttotal: 13s\tremaining: 35s\n",
            "271:\tlearn: 0.8881197\ttotal: 13s\tremaining: 34.9s\n",
            "272:\tlearn: 0.8881196\ttotal: 13.1s\tremaining: 34.9s\n",
            "273:\tlearn: 0.8881196\ttotal: 13.1s\tremaining: 34.8s\n",
            "274:\tlearn: 0.8881189\ttotal: 13.2s\tremaining: 34.8s\n",
            "275:\tlearn: 0.8881187\ttotal: 13.2s\tremaining: 34.7s\n",
            "276:\tlearn: 0.8881188\ttotal: 13.3s\tremaining: 34.7s\n",
            "277:\tlearn: 0.8881189\ttotal: 13.3s\tremaining: 34.7s\n",
            "278:\tlearn: 0.8881189\ttotal: 13.4s\tremaining: 34.6s\n",
            "279:\tlearn: 0.8881189\ttotal: 13.4s\tremaining: 34.6s\n",
            "280:\tlearn: 0.8881189\ttotal: 13.5s\tremaining: 34.5s\n",
            "281:\tlearn: 0.8881189\ttotal: 13.5s\tremaining: 34.5s\n",
            "282:\tlearn: 0.8881190\ttotal: 13.6s\tremaining: 34.4s\n",
            "283:\tlearn: 0.8881189\ttotal: 13.6s\tremaining: 34.4s\n",
            "284:\tlearn: 0.8881189\ttotal: 13.7s\tremaining: 34.3s\n",
            "285:\tlearn: 0.8881189\ttotal: 13.7s\tremaining: 34.3s\n",
            "286:\tlearn: 0.8881190\ttotal: 13.8s\tremaining: 34.2s\n",
            "287:\tlearn: 0.8881189\ttotal: 13.8s\tremaining: 34.2s\n",
            "288:\tlearn: 0.8881189\ttotal: 13.9s\tremaining: 34.1s\n",
            "289:\tlearn: 0.8881188\ttotal: 13.9s\tremaining: 34.1s\n",
            "290:\tlearn: 0.8881189\ttotal: 14s\tremaining: 34s\n",
            "291:\tlearn: 0.8881189\ttotal: 14s\tremaining: 34s\n",
            "292:\tlearn: 0.8881189\ttotal: 14.1s\tremaining: 34s\n",
            "293:\tlearn: 0.8881189\ttotal: 14.1s\tremaining: 33.9s\n",
            "294:\tlearn: 0.8881182\ttotal: 14.2s\tremaining: 33.9s\n",
            "295:\tlearn: 0.8881184\ttotal: 14.2s\tremaining: 33.9s\n",
            "296:\tlearn: 0.8881184\ttotal: 14.3s\tremaining: 33.8s\n",
            "297:\tlearn: 0.8881183\ttotal: 14.3s\tremaining: 33.8s\n",
            "298:\tlearn: 0.8881179\ttotal: 14.4s\tremaining: 33.7s\n",
            "299:\tlearn: 0.8881178\ttotal: 14.4s\tremaining: 33.7s\n",
            "300:\tlearn: 0.8881179\ttotal: 14.5s\tremaining: 33.6s\n",
            "301:\tlearn: 0.8881179\ttotal: 14.5s\tremaining: 33.6s\n",
            "302:\tlearn: 0.8881176\ttotal: 14.6s\tremaining: 33.5s\n",
            "303:\tlearn: 0.8881177\ttotal: 14.6s\tremaining: 33.5s\n",
            "304:\tlearn: 0.8881178\ttotal: 14.7s\tremaining: 33.4s\n",
            "305:\tlearn: 0.8881178\ttotal: 14.7s\tremaining: 33.4s\n",
            "306:\tlearn: 0.8881179\ttotal: 14.8s\tremaining: 33.3s\n",
            "307:\tlearn: 0.8881178\ttotal: 14.8s\tremaining: 33.3s\n",
            "308:\tlearn: 0.8881178\ttotal: 14.9s\tremaining: 33.2s\n",
            "309:\tlearn: 0.8881179\ttotal: 14.9s\tremaining: 33.2s\n",
            "310:\tlearn: 0.8881180\ttotal: 15s\tremaining: 33.1s\n",
            "311:\tlearn: 0.8881179\ttotal: 15s\tremaining: 33.1s\n",
            "312:\tlearn: 0.8881179\ttotal: 15.1s\tremaining: 33.1s\n",
            "313:\tlearn: 0.8881180\ttotal: 15.1s\tremaining: 33s\n",
            "314:\tlearn: 0.8881180\ttotal: 15.2s\tremaining: 33s\n",
            "315:\tlearn: 0.8881179\ttotal: 15.2s\tremaining: 32.9s\n",
            "316:\tlearn: 0.8881179\ttotal: 15.3s\tremaining: 32.9s\n",
            "317:\tlearn: 0.8881178\ttotal: 15.3s\tremaining: 32.8s\n",
            "318:\tlearn: 0.8881179\ttotal: 15.4s\tremaining: 32.8s\n",
            "319:\tlearn: 0.8881179\ttotal: 15.4s\tremaining: 32.7s\n",
            "320:\tlearn: 0.8881179\ttotal: 15.5s\tremaining: 32.7s\n",
            "321:\tlearn: 0.8881179\ttotal: 15.5s\tremaining: 32.6s\n",
            "322:\tlearn: 0.8881179\ttotal: 15.6s\tremaining: 32.6s\n",
            "323:\tlearn: 0.8881171\ttotal: 15.6s\tremaining: 32.5s\n",
            "324:\tlearn: 0.8881173\ttotal: 15.7s\tremaining: 32.5s\n",
            "325:\tlearn: 0.8881172\ttotal: 15.7s\tremaining: 32.5s\n",
            "326:\tlearn: 0.8881173\ttotal: 15.7s\tremaining: 32.4s\n",
            "327:\tlearn: 0.8881172\ttotal: 15.8s\tremaining: 32.4s\n",
            "328:\tlearn: 0.8881173\ttotal: 15.8s\tremaining: 32.3s\n",
            "329:\tlearn: 0.8881173\ttotal: 15.9s\tremaining: 32.3s\n",
            "330:\tlearn: 0.8881173\ttotal: 15.9s\tremaining: 32.2s\n",
            "331:\tlearn: 0.8881173\ttotal: 16s\tremaining: 32.2s\n",
            "332:\tlearn: 0.8881175\ttotal: 16s\tremaining: 32.1s\n",
            "333:\tlearn: 0.8881174\ttotal: 16.1s\tremaining: 32.1s\n",
            "334:\tlearn: 0.8881174\ttotal: 16.1s\tremaining: 32s\n",
            "335:\tlearn: 0.8881169\ttotal: 16.2s\tremaining: 32s\n",
            "336:\tlearn: 0.8881166\ttotal: 16.2s\tremaining: 31.9s\n",
            "337:\tlearn: 0.8881165\ttotal: 16.3s\tremaining: 31.9s\n",
            "338:\tlearn: 0.8881160\ttotal: 16.3s\tremaining: 31.9s\n",
            "339:\tlearn: 0.8881162\ttotal: 16.4s\tremaining: 31.8s\n",
            "340:\tlearn: 0.8881163\ttotal: 16.4s\tremaining: 31.8s\n",
            "341:\tlearn: 0.8881163\ttotal: 16.5s\tremaining: 31.7s\n",
            "342:\tlearn: 0.8881164\ttotal: 16.5s\tremaining: 31.7s\n",
            "343:\tlearn: 0.8881162\ttotal: 16.6s\tremaining: 31.6s\n",
            "344:\tlearn: 0.8881160\ttotal: 16.6s\tremaining: 31.6s\n",
            "345:\tlearn: 0.8881161\ttotal: 16.7s\tremaining: 31.5s\n",
            "346:\tlearn: 0.8881160\ttotal: 16.7s\tremaining: 31.5s\n",
            "347:\tlearn: 0.8881162\ttotal: 16.8s\tremaining: 31.4s\n",
            "348:\tlearn: 0.8881161\ttotal: 16.8s\tremaining: 31.4s\n",
            "349:\tlearn: 0.8881162\ttotal: 16.9s\tremaining: 31.3s\n",
            "350:\tlearn: 0.8881162\ttotal: 16.9s\tremaining: 31.3s\n",
            "351:\tlearn: 0.8881162\ttotal: 17s\tremaining: 31.2s\n",
            "352:\tlearn: 0.8881163\ttotal: 17s\tremaining: 31.2s\n",
            "353:\tlearn: 0.8881164\ttotal: 17.1s\tremaining: 31.2s\n",
            "354:\tlearn: 0.8881163\ttotal: 17.1s\tremaining: 31.1s\n",
            "355:\tlearn: 0.8881163\ttotal: 17.2s\tremaining: 31.1s\n",
            "356:\tlearn: 0.8881163\ttotal: 17.2s\tremaining: 31s\n",
            "357:\tlearn: 0.8881162\ttotal: 17.3s\tremaining: 31s\n",
            "358:\tlearn: 0.8881162\ttotal: 17.3s\tremaining: 30.9s\n",
            "359:\tlearn: 0.8881162\ttotal: 17.4s\tremaining: 30.9s\n",
            "360:\tlearn: 0.8881162\ttotal: 17.4s\tremaining: 30.8s\n",
            "361:\tlearn: 0.8881162\ttotal: 17.5s\tremaining: 30.8s\n",
            "362:\tlearn: 0.8881162\ttotal: 17.5s\tremaining: 30.7s\n",
            "363:\tlearn: 0.8881158\ttotal: 17.6s\tremaining: 30.7s\n",
            "364:\tlearn: 0.8881155\ttotal: 17.6s\tremaining: 30.7s\n",
            "365:\tlearn: 0.8881155\ttotal: 17.7s\tremaining: 30.6s\n",
            "366:\tlearn: 0.8881155\ttotal: 17.7s\tremaining: 30.6s\n",
            "367:\tlearn: 0.8881156\ttotal: 17.8s\tremaining: 30.5s\n",
            "368:\tlearn: 0.8881157\ttotal: 17.8s\tremaining: 30.5s\n",
            "369:\tlearn: 0.8881157\ttotal: 17.9s\tremaining: 30.4s\n",
            "370:\tlearn: 0.8881155\ttotal: 17.9s\tremaining: 30.4s\n",
            "371:\tlearn: 0.8881156\ttotal: 18s\tremaining: 30.3s\n",
            "372:\tlearn: 0.8881157\ttotal: 18s\tremaining: 30.3s\n",
            "373:\tlearn: 0.8881158\ttotal: 18.1s\tremaining: 30.2s\n",
            "374:\tlearn: 0.8881158\ttotal: 18.1s\tremaining: 30.2s\n",
            "375:\tlearn: 0.8881158\ttotal: 18.2s\tremaining: 30.1s\n",
            "376:\tlearn: 0.8881158\ttotal: 18.2s\tremaining: 30.1s\n",
            "377:\tlearn: 0.8881158\ttotal: 18.3s\tremaining: 30.1s\n",
            "378:\tlearn: 0.8881158\ttotal: 18.3s\tremaining: 30s\n",
            "379:\tlearn: 0.8881157\ttotal: 18.4s\tremaining: 30s\n",
            "380:\tlearn: 0.8881158\ttotal: 18.4s\tremaining: 29.9s\n",
            "381:\tlearn: 0.8881157\ttotal: 18.5s\tremaining: 29.9s\n",
            "382:\tlearn: 0.8881157\ttotal: 18.5s\tremaining: 29.8s\n",
            "383:\tlearn: 0.8881157\ttotal: 18.6s\tremaining: 29.8s\n",
            "384:\tlearn: 0.8881157\ttotal: 18.6s\tremaining: 29.7s\n",
            "385:\tlearn: 0.8881157\ttotal: 18.7s\tremaining: 29.7s\n",
            "386:\tlearn: 0.8881157\ttotal: 18.7s\tremaining: 29.6s\n",
            "387:\tlearn: 0.8881157\ttotal: 18.8s\tremaining: 29.6s\n",
            "388:\tlearn: 0.8881156\ttotal: 18.8s\tremaining: 29.5s\n",
            "389:\tlearn: 0.8881156\ttotal: 18.8s\tremaining: 29.5s\n",
            "390:\tlearn: 0.8881156\ttotal: 18.9s\tremaining: 29.4s\n",
            "391:\tlearn: 0.8881156\ttotal: 18.9s\tremaining: 29.4s\n",
            "392:\tlearn: 0.8881156\ttotal: 19s\tremaining: 29.3s\n",
            "393:\tlearn: 0.8881156\ttotal: 19.1s\tremaining: 29.3s\n",
            "394:\tlearn: 0.8881157\ttotal: 19.1s\tremaining: 29.3s\n",
            "395:\tlearn: 0.8881156\ttotal: 19.2s\tremaining: 29.2s\n",
            "396:\tlearn: 0.8881157\ttotal: 19.2s\tremaining: 29.2s\n",
            "397:\tlearn: 0.8881157\ttotal: 19.3s\tremaining: 29.2s\n",
            "398:\tlearn: 0.8881157\ttotal: 19.3s\tremaining: 29.1s\n",
            "399:\tlearn: 0.8881157\ttotal: 19.4s\tremaining: 29.1s\n",
            "400:\tlearn: 0.8881157\ttotal: 19.4s\tremaining: 29s\n",
            "401:\tlearn: 0.8881157\ttotal: 19.5s\tremaining: 29s\n",
            "402:\tlearn: 0.8881157\ttotal: 19.5s\tremaining: 28.9s\n",
            "403:\tlearn: 0.8881157\ttotal: 19.6s\tremaining: 28.9s\n",
            "404:\tlearn: 0.8881157\ttotal: 19.6s\tremaining: 28.8s\n",
            "405:\tlearn: 0.8881157\ttotal: 19.7s\tremaining: 28.8s\n",
            "406:\tlearn: 0.8881157\ttotal: 19.7s\tremaining: 28.7s\n",
            "407:\tlearn: 0.8881157\ttotal: 19.8s\tremaining: 28.7s\n",
            "408:\tlearn: 0.8881157\ttotal: 19.8s\tremaining: 28.6s\n",
            "409:\tlearn: 0.8881157\ttotal: 19.9s\tremaining: 28.6s\n",
            "410:\tlearn: 0.8881157\ttotal: 19.9s\tremaining: 28.5s\n",
            "411:\tlearn: 0.8881157\ttotal: 20s\tremaining: 28.5s\n",
            "412:\tlearn: 0.8881157\ttotal: 20s\tremaining: 28.4s\n",
            "413:\tlearn: 0.8881157\ttotal: 20.1s\tremaining: 28.4s\n",
            "414:\tlearn: 0.8881157\ttotal: 20.1s\tremaining: 28.4s\n",
            "415:\tlearn: 0.8881157\ttotal: 20.2s\tremaining: 28.3s\n",
            "416:\tlearn: 0.8881157\ttotal: 20.2s\tremaining: 28.3s\n",
            "417:\tlearn: 0.8881157\ttotal: 20.3s\tremaining: 28.2s\n",
            "418:\tlearn: 0.8881157\ttotal: 20.3s\tremaining: 28.2s\n",
            "419:\tlearn: 0.8881157\ttotal: 20.4s\tremaining: 28.1s\n",
            "420:\tlearn: 0.8881157\ttotal: 20.4s\tremaining: 28.1s\n",
            "421:\tlearn: 0.8881157\ttotal: 20.5s\tremaining: 28s\n",
            "422:\tlearn: 0.8881157\ttotal: 20.5s\tremaining: 28s\n",
            "423:\tlearn: 0.8881157\ttotal: 20.6s\tremaining: 27.9s\n",
            "424:\tlearn: 0.8881157\ttotal: 20.6s\tremaining: 27.9s\n",
            "425:\tlearn: 0.8881157\ttotal: 20.7s\tremaining: 27.8s\n",
            "426:\tlearn: 0.8881157\ttotal: 20.7s\tremaining: 27.8s\n",
            "427:\tlearn: 0.8881157\ttotal: 20.8s\tremaining: 27.7s\n",
            "428:\tlearn: 0.8881150\ttotal: 20.8s\tremaining: 27.7s\n",
            "429:\tlearn: 0.8881150\ttotal: 20.9s\tremaining: 27.6s\n",
            "430:\tlearn: 0.8881151\ttotal: 20.9s\tremaining: 27.6s\n",
            "431:\tlearn: 0.8881150\ttotal: 21s\tremaining: 27.5s\n",
            "432:\tlearn: 0.8881151\ttotal: 21s\tremaining: 27.5s\n",
            "433:\tlearn: 0.8881151\ttotal: 21s\tremaining: 27.5s\n",
            "434:\tlearn: 0.8881151\ttotal: 21.1s\tremaining: 27.4s\n",
            "435:\tlearn: 0.8881150\ttotal: 21.2s\tremaining: 27.4s\n",
            "436:\tlearn: 0.8881152\ttotal: 21.2s\tremaining: 27.3s\n",
            "437:\tlearn: 0.8881153\ttotal: 21.2s\tremaining: 27.3s\n",
            "438:\tlearn: 0.8881145\ttotal: 21.3s\tremaining: 27.2s\n",
            "439:\tlearn: 0.8881149\ttotal: 21.3s\tremaining: 27.2s\n",
            "440:\tlearn: 0.8881147\ttotal: 21.4s\tremaining: 27.1s\n",
            "441:\tlearn: 0.8881145\ttotal: 21.4s\tremaining: 27.1s\n",
            "442:\tlearn: 0.8881145\ttotal: 21.5s\tremaining: 27s\n",
            "443:\tlearn: 0.8881145\ttotal: 21.5s\tremaining: 27s\n",
            "444:\tlearn: 0.8881146\ttotal: 21.6s\tremaining: 26.9s\n",
            "445:\tlearn: 0.8881146\ttotal: 21.6s\tremaining: 26.9s\n",
            "446:\tlearn: 0.8881147\ttotal: 21.7s\tremaining: 26.8s\n",
            "447:\tlearn: 0.8881147\ttotal: 21.7s\tremaining: 26.8s\n",
            "448:\tlearn: 0.8881146\ttotal: 21.8s\tremaining: 26.7s\n",
            "449:\tlearn: 0.8881147\ttotal: 21.8s\tremaining: 26.7s\n",
            "450:\tlearn: 0.8881147\ttotal: 21.9s\tremaining: 26.6s\n",
            "451:\tlearn: 0.8881147\ttotal: 21.9s\tremaining: 26.6s\n",
            "452:\tlearn: 0.8881147\ttotal: 22s\tremaining: 26.5s\n",
            "453:\tlearn: 0.8881142\ttotal: 22s\tremaining: 26.5s\n",
            "454:\tlearn: 0.8881144\ttotal: 22.1s\tremaining: 26.4s\n",
            "455:\tlearn: 0.8881143\ttotal: 22.1s\tremaining: 26.4s\n",
            "456:\tlearn: 0.8881140\ttotal: 22.2s\tremaining: 26.4s\n",
            "457:\tlearn: 0.8881140\ttotal: 22.2s\tremaining: 26.3s\n",
            "458:\tlearn: 0.8881141\ttotal: 22.3s\tremaining: 26.3s\n",
            "459:\tlearn: 0.8881141\ttotal: 22.4s\tremaining: 26.2s\n",
            "460:\tlearn: 0.8881137\ttotal: 22.4s\tremaining: 26.2s\n",
            "461:\tlearn: 0.8881139\ttotal: 22.4s\tremaining: 26.1s\n",
            "462:\tlearn: 0.8881137\ttotal: 22.5s\tremaining: 26.1s\n",
            "463:\tlearn: 0.8881139\ttotal: 22.6s\tremaining: 26.1s\n",
            "464:\tlearn: 0.8881139\ttotal: 22.6s\tremaining: 26s\n",
            "465:\tlearn: 0.8881137\ttotal: 22.6s\tremaining: 26s\n",
            "466:\tlearn: 0.8881137\ttotal: 22.7s\tremaining: 25.9s\n",
            "467:\tlearn: 0.8881136\ttotal: 22.7s\tremaining: 25.9s\n",
            "468:\tlearn: 0.8881137\ttotal: 22.8s\tremaining: 25.8s\n",
            "469:\tlearn: 0.8881136\ttotal: 22.8s\tremaining: 25.8s\n",
            "470:\tlearn: 0.8881135\ttotal: 22.9s\tremaining: 25.7s\n",
            "471:\tlearn: 0.8881137\ttotal: 22.9s\tremaining: 25.7s\n",
            "472:\tlearn: 0.8881137\ttotal: 23s\tremaining: 25.6s\n",
            "473:\tlearn: 0.8881137\ttotal: 23s\tremaining: 25.6s\n",
            "474:\tlearn: 0.8881137\ttotal: 23.1s\tremaining: 25.5s\n",
            "475:\tlearn: 0.8881138\ttotal: 23.1s\tremaining: 25.5s\n",
            "476:\tlearn: 0.8881138\ttotal: 23.2s\tremaining: 25.4s\n",
            "477:\tlearn: 0.8881138\ttotal: 23.2s\tremaining: 25.4s\n",
            "478:\tlearn: 0.8881139\ttotal: 23.3s\tremaining: 25.3s\n",
            "479:\tlearn: 0.8881139\ttotal: 23.3s\tremaining: 25.3s\n",
            "480:\tlearn: 0.8881138\ttotal: 23.4s\tremaining: 25.2s\n",
            "481:\tlearn: 0.8881139\ttotal: 23.4s\tremaining: 25.2s\n",
            "482:\tlearn: 0.8881139\ttotal: 23.5s\tremaining: 25.1s\n",
            "483:\tlearn: 0.8881139\ttotal: 23.5s\tremaining: 25.1s\n",
            "484:\tlearn: 0.8881139\ttotal: 23.6s\tremaining: 25s\n",
            "485:\tlearn: 0.8881138\ttotal: 23.6s\tremaining: 25s\n",
            "486:\tlearn: 0.8881138\ttotal: 23.7s\tremaining: 24.9s\n",
            "487:\tlearn: 0.8881138\ttotal: 23.7s\tremaining: 24.9s\n",
            "488:\tlearn: 0.8881138\ttotal: 23.8s\tremaining: 24.9s\n",
            "489:\tlearn: 0.8881138\ttotal: 23.8s\tremaining: 24.8s\n",
            "490:\tlearn: 0.8881138\ttotal: 23.9s\tremaining: 24.8s\n",
            "491:\tlearn: 0.8881135\ttotal: 23.9s\tremaining: 24.7s\n",
            "492:\tlearn: 0.8881132\ttotal: 24s\tremaining: 24.7s\n",
            "493:\tlearn: 0.8881131\ttotal: 24s\tremaining: 24.6s\n",
            "494:\tlearn: 0.8881131\ttotal: 24.1s\tremaining: 24.6s\n",
            "495:\tlearn: 0.8881131\ttotal: 24.1s\tremaining: 24.5s\n",
            "496:\tlearn: 0.8881131\ttotal: 24.2s\tremaining: 24.5s\n",
            "497:\tlearn: 0.8881131\ttotal: 24.2s\tremaining: 24.4s\n",
            "498:\tlearn: 0.8881131\ttotal: 24.3s\tremaining: 24.4s\n",
            "499:\tlearn: 0.8881132\ttotal: 24.3s\tremaining: 24.3s\n",
            "500:\tlearn: 0.8881133\ttotal: 24.4s\tremaining: 24.3s\n",
            "501:\tlearn: 0.8881131\ttotal: 24.4s\tremaining: 24.2s\n",
            "502:\tlearn: 0.8881132\ttotal: 24.5s\tremaining: 24.2s\n",
            "503:\tlearn: 0.8881132\ttotal: 24.5s\tremaining: 24.1s\n",
            "504:\tlearn: 0.8881132\ttotal: 24.6s\tremaining: 24.1s\n",
            "505:\tlearn: 0.8881133\ttotal: 24.6s\tremaining: 24s\n",
            "506:\tlearn: 0.8881133\ttotal: 24.7s\tremaining: 24s\n",
            "507:\tlearn: 0.8881133\ttotal: 24.7s\tremaining: 23.9s\n",
            "508:\tlearn: 0.8881134\ttotal: 24.8s\tremaining: 23.9s\n",
            "509:\tlearn: 0.8881133\ttotal: 24.8s\tremaining: 23.8s\n",
            "510:\tlearn: 0.8881133\ttotal: 24.9s\tremaining: 23.8s\n",
            "511:\tlearn: 0.8881134\ttotal: 24.9s\tremaining: 23.7s\n",
            "512:\tlearn: 0.8881129\ttotal: 25s\tremaining: 23.7s\n",
            "513:\tlearn: 0.8881131\ttotal: 25s\tremaining: 23.6s\n",
            "514:\tlearn: 0.8881121\ttotal: 25.1s\tremaining: 23.6s\n",
            "515:\tlearn: 0.8881120\ttotal: 25.1s\tremaining: 23.5s\n",
            "516:\tlearn: 0.8881123\ttotal: 25.1s\tremaining: 23.5s\n",
            "517:\tlearn: 0.8881123\ttotal: 25.2s\tremaining: 23.5s\n",
            "518:\tlearn: 0.8881124\ttotal: 25.3s\tremaining: 23.4s\n",
            "519:\tlearn: 0.8881117\ttotal: 25.3s\tremaining: 23.4s\n",
            "520:\tlearn: 0.8881117\ttotal: 25.4s\tremaining: 23.3s\n",
            "521:\tlearn: 0.8881118\ttotal: 25.4s\tremaining: 23.3s\n",
            "522:\tlearn: 0.8881117\ttotal: 25.5s\tremaining: 23.2s\n",
            "523:\tlearn: 0.8881117\ttotal: 25.5s\tremaining: 23.2s\n",
            "524:\tlearn: 0.8881119\ttotal: 25.6s\tremaining: 23.1s\n",
            "525:\tlearn: 0.8881120\ttotal: 25.6s\tremaining: 23.1s\n",
            "526:\tlearn: 0.8881121\ttotal: 25.7s\tremaining: 23s\n",
            "527:\tlearn: 0.8881122\ttotal: 25.7s\tremaining: 23s\n",
            "528:\tlearn: 0.8881120\ttotal: 25.7s\tremaining: 22.9s\n",
            "529:\tlearn: 0.8881119\ttotal: 25.8s\tremaining: 22.9s\n",
            "530:\tlearn: 0.8881120\ttotal: 25.8s\tremaining: 22.8s\n",
            "531:\tlearn: 0.8881120\ttotal: 25.9s\tremaining: 22.8s\n",
            "532:\tlearn: 0.8881118\ttotal: 25.9s\tremaining: 22.7s\n",
            "533:\tlearn: 0.8881117\ttotal: 26s\tremaining: 22.7s\n",
            "534:\tlearn: 0.8881118\ttotal: 26s\tremaining: 22.6s\n",
            "535:\tlearn: 0.8881119\ttotal: 26.1s\tremaining: 22.6s\n",
            "536:\tlearn: 0.8881119\ttotal: 26.1s\tremaining: 22.5s\n",
            "537:\tlearn: 0.8881119\ttotal: 26.2s\tremaining: 22.5s\n",
            "538:\tlearn: 0.8881118\ttotal: 26.2s\tremaining: 22.4s\n",
            "539:\tlearn: 0.8881119\ttotal: 26.3s\tremaining: 22.4s\n",
            "540:\tlearn: 0.8881118\ttotal: 26.3s\tremaining: 22.3s\n",
            "541:\tlearn: 0.8881118\ttotal: 26.4s\tremaining: 22.3s\n",
            "542:\tlearn: 0.8881118\ttotal: 26.4s\tremaining: 22.2s\n",
            "543:\tlearn: 0.8881118\ttotal: 26.5s\tremaining: 22.2s\n",
            "544:\tlearn: 0.8881119\ttotal: 26.5s\tremaining: 22.1s\n",
            "545:\tlearn: 0.8881119\ttotal: 26.6s\tremaining: 22.1s\n",
            "546:\tlearn: 0.8881119\ttotal: 26.6s\tremaining: 22.1s\n",
            "547:\tlearn: 0.8881119\ttotal: 26.7s\tremaining: 22s\n",
            "548:\tlearn: 0.8881120\ttotal: 26.7s\tremaining: 22s\n",
            "549:\tlearn: 0.8881115\ttotal: 26.8s\tremaining: 21.9s\n",
            "550:\tlearn: 0.8881108\ttotal: 26.8s\tremaining: 21.9s\n",
            "551:\tlearn: 0.8881108\ttotal: 26.9s\tremaining: 21.8s\n",
            "552:\tlearn: 0.8881109\ttotal: 26.9s\tremaining: 21.8s\n",
            "553:\tlearn: 0.8881110\ttotal: 27s\tremaining: 21.7s\n",
            "554:\tlearn: 0.8881109\ttotal: 27s\tremaining: 21.7s\n",
            "555:\tlearn: 0.8881110\ttotal: 27.1s\tremaining: 21.6s\n",
            "556:\tlearn: 0.8881111\ttotal: 27.1s\tremaining: 21.6s\n",
            "557:\tlearn: 0.8881112\ttotal: 27.2s\tremaining: 21.5s\n",
            "558:\tlearn: 0.8881113\ttotal: 27.2s\tremaining: 21.5s\n",
            "559:\tlearn: 0.8881112\ttotal: 27.3s\tremaining: 21.4s\n",
            "560:\tlearn: 0.8881111\ttotal: 27.3s\tremaining: 21.4s\n",
            "561:\tlearn: 0.8881111\ttotal: 27.4s\tremaining: 21.3s\n",
            "562:\tlearn: 0.8881112\ttotal: 27.4s\tremaining: 21.3s\n",
            "563:\tlearn: 0.8881110\ttotal: 27.5s\tremaining: 21.2s\n",
            "564:\tlearn: 0.8881103\ttotal: 27.5s\tremaining: 21.2s\n",
            "565:\tlearn: 0.8881101\ttotal: 27.6s\tremaining: 21.1s\n",
            "566:\tlearn: 0.8881101\ttotal: 27.6s\tremaining: 21.1s\n",
            "567:\tlearn: 0.8881101\ttotal: 27.7s\tremaining: 21s\n",
            "568:\tlearn: 0.8881100\ttotal: 27.7s\tremaining: 21s\n",
            "569:\tlearn: 0.8881098\ttotal: 27.8s\tremaining: 20.9s\n",
            "570:\tlearn: 0.8881097\ttotal: 27.8s\tremaining: 20.9s\n",
            "571:\tlearn: 0.8881098\ttotal: 27.9s\tremaining: 20.8s\n",
            "572:\tlearn: 0.8881097\ttotal: 27.9s\tremaining: 20.8s\n",
            "573:\tlearn: 0.8881097\ttotal: 27.9s\tremaining: 20.7s\n",
            "574:\tlearn: 0.8881095\ttotal: 28s\tremaining: 20.7s\n",
            "575:\tlearn: 0.8881093\ttotal: 28.1s\tremaining: 20.6s\n",
            "576:\tlearn: 0.8881086\ttotal: 28.1s\tremaining: 20.6s\n",
            "577:\tlearn: 0.8881088\ttotal: 28.1s\tremaining: 20.6s\n",
            "578:\tlearn: 0.8881091\ttotal: 28.2s\tremaining: 20.5s\n",
            "579:\tlearn: 0.8881090\ttotal: 28.2s\tremaining: 20.5s\n",
            "580:\tlearn: 0.8881083\ttotal: 28.3s\tremaining: 20.4s\n",
            "581:\tlearn: 0.8881085\ttotal: 28.4s\tremaining: 20.4s\n",
            "582:\tlearn: 0.8881088\ttotal: 28.4s\tremaining: 20.3s\n",
            "583:\tlearn: 0.8881087\ttotal: 28.4s\tremaining: 20.3s\n",
            "584:\tlearn: 0.8881087\ttotal: 28.5s\tremaining: 20.2s\n",
            "585:\tlearn: 0.8881086\ttotal: 28.6s\tremaining: 20.2s\n",
            "586:\tlearn: 0.8881087\ttotal: 28.6s\tremaining: 20.1s\n",
            "587:\tlearn: 0.8881087\ttotal: 28.6s\tremaining: 20.1s\n",
            "588:\tlearn: 0.8881086\ttotal: 28.7s\tremaining: 20s\n",
            "589:\tlearn: 0.8881088\ttotal: 28.7s\tremaining: 20s\n",
            "590:\tlearn: 0.8881089\ttotal: 28.8s\tremaining: 19.9s\n",
            "591:\tlearn: 0.8881089\ttotal: 28.8s\tremaining: 19.9s\n",
            "592:\tlearn: 0.8881088\ttotal: 28.9s\tremaining: 19.8s\n",
            "593:\tlearn: 0.8881091\ttotal: 28.9s\tremaining: 19.8s\n",
            "594:\tlearn: 0.8881091\ttotal: 29s\tremaining: 19.7s\n",
            "595:\tlearn: 0.8881089\ttotal: 29s\tremaining: 19.7s\n",
            "596:\tlearn: 0.8881090\ttotal: 29.1s\tremaining: 19.6s\n",
            "597:\tlearn: 0.8881089\ttotal: 29.1s\tremaining: 19.6s\n",
            "598:\tlearn: 0.8881088\ttotal: 29.2s\tremaining: 19.5s\n",
            "599:\tlearn: 0.8881088\ttotal: 29.2s\tremaining: 19.5s\n",
            "600:\tlearn: 0.8881088\ttotal: 29.3s\tremaining: 19.4s\n",
            "601:\tlearn: 0.8881089\ttotal: 29.3s\tremaining: 19.4s\n",
            "602:\tlearn: 0.8881090\ttotal: 29.4s\tremaining: 19.4s\n",
            "603:\tlearn: 0.8881090\ttotal: 29.4s\tremaining: 19.3s\n",
            "604:\tlearn: 0.8881090\ttotal: 29.5s\tremaining: 19.3s\n",
            "605:\tlearn: 0.8881089\ttotal: 29.5s\tremaining: 19.2s\n",
            "606:\tlearn: 0.8881088\ttotal: 29.6s\tremaining: 19.2s\n",
            "607:\tlearn: 0.8881088\ttotal: 29.6s\tremaining: 19.1s\n",
            "608:\tlearn: 0.8881089\ttotal: 29.7s\tremaining: 19.1s\n",
            "609:\tlearn: 0.8881089\ttotal: 29.7s\tremaining: 19s\n",
            "610:\tlearn: 0.8881089\ttotal: 29.8s\tremaining: 19s\n",
            "611:\tlearn: 0.8881089\ttotal: 29.8s\tremaining: 18.9s\n",
            "612:\tlearn: 0.8881089\ttotal: 29.9s\tremaining: 18.9s\n",
            "613:\tlearn: 0.8881089\ttotal: 29.9s\tremaining: 18.8s\n",
            "614:\tlearn: 0.8881089\ttotal: 30s\tremaining: 18.8s\n",
            "615:\tlearn: 0.8881089\ttotal: 30s\tremaining: 18.7s\n",
            "616:\tlearn: 0.8881089\ttotal: 30.1s\tremaining: 18.7s\n",
            "617:\tlearn: 0.8881089\ttotal: 30.1s\tremaining: 18.6s\n",
            "618:\tlearn: 0.8881089\ttotal: 30.2s\tremaining: 18.6s\n",
            "619:\tlearn: 0.8881089\ttotal: 30.2s\tremaining: 18.5s\n",
            "620:\tlearn: 0.8881089\ttotal: 30.3s\tremaining: 18.5s\n",
            "621:\tlearn: 0.8881089\ttotal: 30.3s\tremaining: 18.4s\n",
            "622:\tlearn: 0.8881089\ttotal: 30.4s\tremaining: 18.4s\n",
            "623:\tlearn: 0.8881089\ttotal: 30.4s\tremaining: 18.3s\n",
            "624:\tlearn: 0.8881089\ttotal: 30.5s\tremaining: 18.3s\n",
            "625:\tlearn: 0.8881083\ttotal: 30.5s\tremaining: 18.2s\n",
            "626:\tlearn: 0.8881080\ttotal: 30.6s\tremaining: 18.2s\n",
            "627:\tlearn: 0.8881073\ttotal: 30.6s\tremaining: 18.1s\n",
            "628:\tlearn: 0.8881075\ttotal: 30.7s\tremaining: 18.1s\n",
            "629:\tlearn: 0.8881077\ttotal: 30.7s\tremaining: 18s\n",
            "630:\tlearn: 0.8881076\ttotal: 30.8s\tremaining: 18s\n",
            "631:\tlearn: 0.8881076\ttotal: 30.8s\tremaining: 17.9s\n",
            "632:\tlearn: 0.8881075\ttotal: 30.9s\tremaining: 17.9s\n",
            "633:\tlearn: 0.8881075\ttotal: 30.9s\tremaining: 17.8s\n",
            "634:\tlearn: 0.8881075\ttotal: 31s\tremaining: 17.8s\n",
            "635:\tlearn: 0.8881075\ttotal: 31s\tremaining: 17.7s\n",
            "636:\tlearn: 0.8881076\ttotal: 31.1s\tremaining: 17.7s\n",
            "637:\tlearn: 0.8881077\ttotal: 31.1s\tremaining: 17.6s\n",
            "638:\tlearn: 0.8881078\ttotal: 31.2s\tremaining: 17.6s\n",
            "639:\tlearn: 0.8881077\ttotal: 31.2s\tremaining: 17.6s\n",
            "640:\tlearn: 0.8881078\ttotal: 31.3s\tremaining: 17.5s\n",
            "641:\tlearn: 0.8881079\ttotal: 31.3s\tremaining: 17.5s\n",
            "642:\tlearn: 0.8881072\ttotal: 31.4s\tremaining: 17.4s\n",
            "643:\tlearn: 0.8881072\ttotal: 31.4s\tremaining: 17.4s\n",
            "644:\tlearn: 0.8881071\ttotal: 31.5s\tremaining: 17.3s\n",
            "645:\tlearn: 0.8881072\ttotal: 31.5s\tremaining: 17.3s\n",
            "646:\tlearn: 0.8881069\ttotal: 31.6s\tremaining: 17.2s\n",
            "647:\tlearn: 0.8881070\ttotal: 31.6s\tremaining: 17.2s\n",
            "648:\tlearn: 0.8881069\ttotal: 31.7s\tremaining: 17.1s\n",
            "649:\tlearn: 0.8881069\ttotal: 31.7s\tremaining: 17.1s\n",
            "650:\tlearn: 0.8881068\ttotal: 31.8s\tremaining: 17s\n",
            "651:\tlearn: 0.8881069\ttotal: 31.8s\tremaining: 17s\n",
            "652:\tlearn: 0.8881068\ttotal: 31.8s\tremaining: 16.9s\n",
            "653:\tlearn: 0.8881069\ttotal: 31.9s\tremaining: 16.9s\n",
            "654:\tlearn: 0.8881071\ttotal: 31.9s\tremaining: 16.8s\n",
            "655:\tlearn: 0.8881072\ttotal: 32s\tremaining: 16.8s\n",
            "656:\tlearn: 0.8881070\ttotal: 32s\tremaining: 16.7s\n",
            "657:\tlearn: 0.8881070\ttotal: 32.1s\tremaining: 16.7s\n",
            "658:\tlearn: 0.8881072\ttotal: 32.1s\tremaining: 16.6s\n",
            "659:\tlearn: 0.8881072\ttotal: 32.2s\tremaining: 16.6s\n",
            "660:\tlearn: 0.8881072\ttotal: 32.2s\tremaining: 16.5s\n",
            "661:\tlearn: 0.8881072\ttotal: 32.3s\tremaining: 16.5s\n",
            "662:\tlearn: 0.8881071\ttotal: 32.4s\tremaining: 16.4s\n",
            "663:\tlearn: 0.8881071\ttotal: 32.4s\tremaining: 16.4s\n",
            "664:\tlearn: 0.8881071\ttotal: 32.5s\tremaining: 16.3s\n",
            "665:\tlearn: 0.8881070\ttotal: 32.5s\tremaining: 16.3s\n",
            "666:\tlearn: 0.8881070\ttotal: 32.5s\tremaining: 16.3s\n",
            "667:\tlearn: 0.8881070\ttotal: 32.6s\tremaining: 16.2s\n",
            "668:\tlearn: 0.8881070\ttotal: 32.6s\tremaining: 16.2s\n",
            "669:\tlearn: 0.8881071\ttotal: 32.7s\tremaining: 16.1s\n",
            "670:\tlearn: 0.8881071\ttotal: 32.7s\tremaining: 16.1s\n",
            "671:\tlearn: 0.8881071\ttotal: 32.8s\tremaining: 16s\n",
            "672:\tlearn: 0.8881071\ttotal: 32.8s\tremaining: 16s\n",
            "673:\tlearn: 0.8881065\ttotal: 32.9s\tremaining: 15.9s\n",
            "674:\tlearn: 0.8881065\ttotal: 32.9s\tremaining: 15.9s\n",
            "675:\tlearn: 0.8881062\ttotal: 33s\tremaining: 15.8s\n",
            "676:\tlearn: 0.8881063\ttotal: 33s\tremaining: 15.8s\n",
            "677:\tlearn: 0.8881062\ttotal: 33.1s\tremaining: 15.7s\n",
            "678:\tlearn: 0.8881061\ttotal: 33.1s\tremaining: 15.7s\n",
            "679:\tlearn: 0.8881062\ttotal: 33.2s\tremaining: 15.6s\n",
            "680:\tlearn: 0.8881061\ttotal: 33.2s\tremaining: 15.6s\n",
            "681:\tlearn: 0.8881061\ttotal: 33.3s\tremaining: 15.5s\n",
            "682:\tlearn: 0.8881058\ttotal: 33.3s\tremaining: 15.5s\n",
            "683:\tlearn: 0.8881051\ttotal: 33.4s\tremaining: 15.4s\n",
            "684:\tlearn: 0.8881048\ttotal: 33.4s\tremaining: 15.4s\n",
            "685:\tlearn: 0.8881048\ttotal: 33.5s\tremaining: 15.3s\n",
            "686:\tlearn: 0.8881048\ttotal: 33.5s\tremaining: 15.3s\n",
            "687:\tlearn: 0.8881049\ttotal: 33.6s\tremaining: 15.2s\n",
            "688:\tlearn: 0.8881051\ttotal: 33.6s\tremaining: 15.2s\n",
            "689:\tlearn: 0.8881053\ttotal: 33.7s\tremaining: 15.1s\n",
            "690:\tlearn: 0.8881053\ttotal: 33.7s\tremaining: 15.1s\n",
            "691:\tlearn: 0.8881054\ttotal: 33.8s\tremaining: 15s\n",
            "692:\tlearn: 0.8881053\ttotal: 33.8s\tremaining: 15s\n",
            "693:\tlearn: 0.8881051\ttotal: 33.9s\tremaining: 14.9s\n",
            "694:\tlearn: 0.8881051\ttotal: 33.9s\tremaining: 14.9s\n",
            "695:\tlearn: 0.8881051\ttotal: 34s\tremaining: 14.8s\n",
            "696:\tlearn: 0.8881052\ttotal: 34s\tremaining: 14.8s\n",
            "697:\tlearn: 0.8881052\ttotal: 34.1s\tremaining: 14.7s\n",
            "698:\tlearn: 0.8881052\ttotal: 34.1s\tremaining: 14.7s\n",
            "699:\tlearn: 0.8881048\ttotal: 34.2s\tremaining: 14.6s\n",
            "700:\tlearn: 0.8881048\ttotal: 34.2s\tremaining: 14.6s\n",
            "701:\tlearn: 0.8881048\ttotal: 34.3s\tremaining: 14.5s\n",
            "702:\tlearn: 0.8881048\ttotal: 34.3s\tremaining: 14.5s\n",
            "703:\tlearn: 0.8881045\ttotal: 34.4s\tremaining: 14.4s\n",
            "704:\tlearn: 0.8881046\ttotal: 34.4s\tremaining: 14.4s\n",
            "705:\tlearn: 0.8881038\ttotal: 34.5s\tremaining: 14.4s\n",
            "706:\tlearn: 0.8881040\ttotal: 34.5s\tremaining: 14.3s\n",
            "707:\tlearn: 0.8881039\ttotal: 34.6s\tremaining: 14.3s\n",
            "708:\tlearn: 0.8881043\ttotal: 34.6s\tremaining: 14.2s\n",
            "709:\tlearn: 0.8881043\ttotal: 34.7s\tremaining: 14.2s\n",
            "710:\tlearn: 0.8881043\ttotal: 34.7s\tremaining: 14.1s\n",
            "711:\tlearn: 0.8881043\ttotal: 34.8s\tremaining: 14.1s\n",
            "712:\tlearn: 0.8881037\ttotal: 34.8s\tremaining: 14s\n",
            "713:\tlearn: 0.8881039\ttotal: 34.9s\tremaining: 14s\n",
            "714:\tlearn: 0.8881040\ttotal: 34.9s\tremaining: 13.9s\n",
            "715:\tlearn: 0.8881040\ttotal: 35s\tremaining: 13.9s\n",
            "716:\tlearn: 0.8881040\ttotal: 35s\tremaining: 13.8s\n",
            "717:\tlearn: 0.8881040\ttotal: 35.1s\tremaining: 13.8s\n",
            "718:\tlearn: 0.8881039\ttotal: 35.1s\tremaining: 13.7s\n",
            "719:\tlearn: 0.8881038\ttotal: 35.1s\tremaining: 13.7s\n",
            "720:\tlearn: 0.8881039\ttotal: 35.2s\tremaining: 13.6s\n",
            "721:\tlearn: 0.8881039\ttotal: 35.2s\tremaining: 13.6s\n",
            "722:\tlearn: 0.8881040\ttotal: 35.3s\tremaining: 13.5s\n",
            "723:\tlearn: 0.8881039\ttotal: 35.3s\tremaining: 13.5s\n",
            "724:\tlearn: 0.8881039\ttotal: 35.4s\tremaining: 13.4s\n",
            "725:\tlearn: 0.8881040\ttotal: 35.5s\tremaining: 13.4s\n",
            "726:\tlearn: 0.8881042\ttotal: 35.5s\tremaining: 13.3s\n",
            "727:\tlearn: 0.8881043\ttotal: 35.6s\tremaining: 13.3s\n",
            "728:\tlearn: 0.8881035\ttotal: 35.6s\tremaining: 13.2s\n",
            "729:\tlearn: 0.8881030\ttotal: 35.6s\tremaining: 13.2s\n",
            "730:\tlearn: 0.8881032\ttotal: 35.7s\tremaining: 13.1s\n",
            "731:\tlearn: 0.8881035\ttotal: 35.7s\tremaining: 13.1s\n",
            "732:\tlearn: 0.8881025\ttotal: 35.8s\tremaining: 13s\n",
            "733:\tlearn: 0.8881023\ttotal: 35.8s\tremaining: 13s\n",
            "734:\tlearn: 0.8881025\ttotal: 35.9s\tremaining: 12.9s\n",
            "735:\tlearn: 0.8881023\ttotal: 36s\tremaining: 12.9s\n",
            "736:\tlearn: 0.8881024\ttotal: 36s\tremaining: 12.8s\n",
            "737:\tlearn: 0.8881022\ttotal: 36s\tremaining: 12.8s\n",
            "738:\tlearn: 0.8881025\ttotal: 36.1s\tremaining: 12.7s\n",
            "739:\tlearn: 0.8881021\ttotal: 36.2s\tremaining: 12.7s\n",
            "740:\tlearn: 0.8881020\ttotal: 36.2s\tremaining: 12.7s\n",
            "741:\tlearn: 0.8881021\ttotal: 36.2s\tremaining: 12.6s\n",
            "742:\tlearn: 0.8881022\ttotal: 36.3s\tremaining: 12.6s\n",
            "743:\tlearn: 0.8881025\ttotal: 36.3s\tremaining: 12.5s\n",
            "744:\tlearn: 0.8881025\ttotal: 36.4s\tremaining: 12.5s\n",
            "745:\tlearn: 0.8881026\ttotal: 36.5s\tremaining: 12.4s\n",
            "746:\tlearn: 0.8881025\ttotal: 36.5s\tremaining: 12.4s\n",
            "747:\tlearn: 0.8881025\ttotal: 36.6s\tremaining: 12.3s\n",
            "748:\tlearn: 0.8881024\ttotal: 36.6s\tremaining: 12.3s\n",
            "749:\tlearn: 0.8881024\ttotal: 36.7s\tremaining: 12.2s\n",
            "750:\tlearn: 0.8881024\ttotal: 36.7s\tremaining: 12.2s\n",
            "751:\tlearn: 0.8881025\ttotal: 36.8s\tremaining: 12.1s\n",
            "752:\tlearn: 0.8881025\ttotal: 36.8s\tremaining: 12.1s\n",
            "753:\tlearn: 0.8881024\ttotal: 36.8s\tremaining: 12s\n",
            "754:\tlearn: 0.8881024\ttotal: 36.9s\tremaining: 12s\n",
            "755:\tlearn: 0.8881022\ttotal: 37s\tremaining: 11.9s\n",
            "756:\tlearn: 0.8881022\ttotal: 37s\tremaining: 11.9s\n",
            "757:\tlearn: 0.8881021\ttotal: 37.1s\tremaining: 11.8s\n",
            "758:\tlearn: 0.8881022\ttotal: 37.1s\tremaining: 11.8s\n",
            "759:\tlearn: 0.8881020\ttotal: 37.1s\tremaining: 11.7s\n",
            "760:\tlearn: 0.8881021\ttotal: 37.2s\tremaining: 11.7s\n",
            "761:\tlearn: 0.8881022\ttotal: 37.2s\tremaining: 11.6s\n",
            "762:\tlearn: 0.8881019\ttotal: 37.3s\tremaining: 11.6s\n",
            "763:\tlearn: 0.8881020\ttotal: 37.3s\tremaining: 11.5s\n",
            "764:\tlearn: 0.8881012\ttotal: 37.4s\tremaining: 11.5s\n",
            "765:\tlearn: 0.8881013\ttotal: 37.5s\tremaining: 11.4s\n",
            "766:\tlearn: 0.8881014\ttotal: 37.5s\tremaining: 11.4s\n",
            "767:\tlearn: 0.8881017\ttotal: 37.6s\tremaining: 11.3s\n",
            "768:\tlearn: 0.8881016\ttotal: 37.6s\tremaining: 11.3s\n",
            "769:\tlearn: 0.8881009\ttotal: 37.6s\tremaining: 11.2s\n",
            "770:\tlearn: 0.8881010\ttotal: 37.7s\tremaining: 11.2s\n",
            "771:\tlearn: 0.8881010\ttotal: 37.7s\tremaining: 11.1s\n",
            "772:\tlearn: 0.8881013\ttotal: 37.8s\tremaining: 11.1s\n",
            "773:\tlearn: 0.8881012\ttotal: 37.8s\tremaining: 11s\n",
            "774:\tlearn: 0.8881013\ttotal: 37.9s\tremaining: 11s\n",
            "775:\tlearn: 0.8881014\ttotal: 37.9s\tremaining: 10.9s\n",
            "776:\tlearn: 0.8881013\ttotal: 38s\tremaining: 10.9s\n",
            "777:\tlearn: 0.8881013\ttotal: 38s\tremaining: 10.9s\n",
            "778:\tlearn: 0.8881012\ttotal: 38.1s\tremaining: 10.8s\n",
            "779:\tlearn: 0.8881011\ttotal: 38.1s\tremaining: 10.8s\n",
            "780:\tlearn: 0.8881007\ttotal: 38.2s\tremaining: 10.7s\n",
            "781:\tlearn: 0.8881003\ttotal: 38.2s\tremaining: 10.7s\n",
            "782:\tlearn: 0.8881001\ttotal: 38.3s\tremaining: 10.6s\n",
            "783:\tlearn: 0.8881004\ttotal: 38.3s\tremaining: 10.6s\n",
            "784:\tlearn: 0.8881004\ttotal: 38.4s\tremaining: 10.5s\n",
            "785:\tlearn: 0.8881006\ttotal: 38.4s\tremaining: 10.5s\n",
            "786:\tlearn: 0.8881007\ttotal: 38.5s\tremaining: 10.4s\n",
            "787:\tlearn: 0.8881008\ttotal: 38.5s\tremaining: 10.4s\n",
            "788:\tlearn: 0.8881008\ttotal: 38.6s\tremaining: 10.3s\n",
            "789:\tlearn: 0.8881008\ttotal: 38.6s\tremaining: 10.3s\n",
            "790:\tlearn: 0.8881009\ttotal: 38.7s\tremaining: 10.2s\n",
            "791:\tlearn: 0.8881008\ttotal: 38.7s\tremaining: 10.2s\n",
            "792:\tlearn: 0.8881007\ttotal: 38.8s\tremaining: 10.1s\n",
            "793:\tlearn: 0.8881003\ttotal: 38.8s\tremaining: 10.1s\n",
            "794:\tlearn: 0.8881004\ttotal: 38.9s\tremaining: 10s\n",
            "795:\tlearn: 0.8881005\ttotal: 38.9s\tremaining: 9.98s\n",
            "796:\tlearn: 0.8881005\ttotal: 39s\tremaining: 9.93s\n",
            "797:\tlearn: 0.8881005\ttotal: 39s\tremaining: 9.88s\n",
            "798:\tlearn: 0.8881005\ttotal: 39.1s\tremaining: 9.83s\n",
            "799:\tlearn: 0.8881005\ttotal: 39.1s\tremaining: 9.78s\n",
            "800:\tlearn: 0.8881005\ttotal: 39.2s\tremaining: 9.74s\n",
            "801:\tlearn: 0.8881003\ttotal: 39.2s\tremaining: 9.69s\n",
            "802:\tlearn: 0.8881005\ttotal: 39.3s\tremaining: 9.64s\n",
            "803:\tlearn: 0.8881005\ttotal: 39.3s\tremaining: 9.59s\n",
            "804:\tlearn: 0.8881005\ttotal: 39.4s\tremaining: 9.54s\n",
            "805:\tlearn: 0.8881006\ttotal: 39.4s\tremaining: 9.49s\n",
            "806:\tlearn: 0.8881005\ttotal: 39.5s\tremaining: 9.44s\n",
            "807:\tlearn: 0.8881005\ttotal: 39.5s\tremaining: 9.39s\n",
            "808:\tlearn: 0.8881006\ttotal: 39.6s\tremaining: 9.34s\n",
            "809:\tlearn: 0.8881005\ttotal: 39.6s\tremaining: 9.29s\n",
            "810:\tlearn: 0.8881001\ttotal: 39.7s\tremaining: 9.24s\n",
            "811:\tlearn: 0.8881002\ttotal: 39.7s\tremaining: 9.2s\n",
            "812:\tlearn: 0.8881003\ttotal: 39.8s\tremaining: 9.15s\n",
            "813:\tlearn: 0.8881002\ttotal: 39.8s\tremaining: 9.1s\n",
            "814:\tlearn: 0.8881002\ttotal: 39.9s\tremaining: 9.05s\n",
            "815:\tlearn: 0.8881002\ttotal: 39.9s\tremaining: 9s\n",
            "816:\tlearn: 0.8881001\ttotal: 40s\tremaining: 8.95s\n",
            "817:\tlearn: 0.8881002\ttotal: 40s\tremaining: 8.9s\n",
            "818:\tlearn: 0.8881003\ttotal: 40.1s\tremaining: 8.85s\n",
            "819:\tlearn: 0.8881003\ttotal: 40.1s\tremaining: 8.8s\n",
            "820:\tlearn: 0.8881003\ttotal: 40.2s\tremaining: 8.76s\n",
            "821:\tlearn: 0.8881003\ttotal: 40.2s\tremaining: 8.71s\n",
            "822:\tlearn: 0.8881003\ttotal: 40.3s\tremaining: 8.66s\n",
            "823:\tlearn: 0.8881003\ttotal: 40.3s\tremaining: 8.61s\n",
            "824:\tlearn: 0.8881002\ttotal: 40.4s\tremaining: 8.56s\n",
            "825:\tlearn: 0.8881002\ttotal: 40.4s\tremaining: 8.51s\n",
            "826:\tlearn: 0.8881002\ttotal: 40.5s\tremaining: 8.46s\n",
            "827:\tlearn: 0.8881002\ttotal: 40.5s\tremaining: 8.41s\n",
            "828:\tlearn: 0.8881002\ttotal: 40.5s\tremaining: 8.36s\n",
            "829:\tlearn: 0.8881002\ttotal: 40.6s\tremaining: 8.31s\n",
            "830:\tlearn: 0.8881003\ttotal: 40.6s\tremaining: 8.27s\n",
            "831:\tlearn: 0.8881003\ttotal: 40.7s\tremaining: 8.22s\n",
            "832:\tlearn: 0.8880999\ttotal: 40.7s\tremaining: 8.17s\n",
            "833:\tlearn: 0.8880992\ttotal: 40.8s\tremaining: 8.12s\n",
            "834:\tlearn: 0.8880991\ttotal: 40.9s\tremaining: 8.07s\n",
            "835:\tlearn: 0.8880989\ttotal: 40.9s\tremaining: 8.02s\n",
            "836:\tlearn: 0.8880989\ttotal: 40.9s\tremaining: 7.97s\n",
            "837:\tlearn: 0.8880989\ttotal: 41s\tremaining: 7.92s\n",
            "838:\tlearn: 0.8880990\ttotal: 41s\tremaining: 7.88s\n",
            "839:\tlearn: 0.8880989\ttotal: 41.1s\tremaining: 7.83s\n",
            "840:\tlearn: 0.8880992\ttotal: 41.1s\tremaining: 7.78s\n",
            "841:\tlearn: 0.8880993\ttotal: 41.2s\tremaining: 7.73s\n",
            "842:\tlearn: 0.8880993\ttotal: 41.2s\tremaining: 7.68s\n",
            "843:\tlearn: 0.8880985\ttotal: 41.3s\tremaining: 7.63s\n",
            "844:\tlearn: 0.8880988\ttotal: 41.3s\tremaining: 7.58s\n",
            "845:\tlearn: 0.8880986\ttotal: 41.4s\tremaining: 7.53s\n",
            "846:\tlearn: 0.8880989\ttotal: 41.4s\tremaining: 7.48s\n",
            "847:\tlearn: 0.8880990\ttotal: 41.5s\tremaining: 7.44s\n",
            "848:\tlearn: 0.8880990\ttotal: 41.5s\tremaining: 7.39s\n",
            "849:\tlearn: 0.8880991\ttotal: 41.6s\tremaining: 7.34s\n",
            "850:\tlearn: 0.8880991\ttotal: 41.6s\tremaining: 7.29s\n",
            "851:\tlearn: 0.8880992\ttotal: 41.7s\tremaining: 7.24s\n",
            "852:\tlearn: 0.8880993\ttotal: 41.7s\tremaining: 7.19s\n",
            "853:\tlearn: 0.8880985\ttotal: 41.8s\tremaining: 7.14s\n",
            "854:\tlearn: 0.8880985\ttotal: 41.8s\tremaining: 7.09s\n",
            "855:\tlearn: 0.8880982\ttotal: 41.9s\tremaining: 7.04s\n",
            "856:\tlearn: 0.8880983\ttotal: 41.9s\tremaining: 6.99s\n",
            "857:\tlearn: 0.8880982\ttotal: 42s\tremaining: 6.95s\n",
            "858:\tlearn: 0.8880983\ttotal: 42s\tremaining: 6.9s\n",
            "859:\tlearn: 0.8880982\ttotal: 42.1s\tremaining: 6.85s\n",
            "860:\tlearn: 0.8880985\ttotal: 42.1s\tremaining: 6.8s\n",
            "861:\tlearn: 0.8880980\ttotal: 42.2s\tremaining: 6.75s\n",
            "862:\tlearn: 0.8880978\ttotal: 42.2s\tremaining: 6.7s\n",
            "863:\tlearn: 0.8880980\ttotal: 42.3s\tremaining: 6.65s\n",
            "864:\tlearn: 0.8880980\ttotal: 42.3s\tremaining: 6.6s\n",
            "865:\tlearn: 0.8880981\ttotal: 42.4s\tremaining: 6.55s\n",
            "866:\tlearn: 0.8880978\ttotal: 42.4s\tremaining: 6.5s\n",
            "867:\tlearn: 0.8880978\ttotal: 42.5s\tremaining: 6.46s\n",
            "868:\tlearn: 0.8880978\ttotal: 42.5s\tremaining: 6.41s\n",
            "869:\tlearn: 0.8880978\ttotal: 42.6s\tremaining: 6.36s\n",
            "870:\tlearn: 0.8880977\ttotal: 42.6s\tremaining: 6.31s\n",
            "871:\tlearn: 0.8880981\ttotal: 42.7s\tremaining: 6.26s\n",
            "872:\tlearn: 0.8880982\ttotal: 42.7s\tremaining: 6.21s\n",
            "873:\tlearn: 0.8880981\ttotal: 42.8s\tremaining: 6.17s\n",
            "874:\tlearn: 0.8880975\ttotal: 42.8s\tremaining: 6.12s\n",
            "875:\tlearn: 0.8880975\ttotal: 42.9s\tremaining: 6.07s\n",
            "876:\tlearn: 0.8880976\ttotal: 42.9s\tremaining: 6.02s\n",
            "877:\tlearn: 0.8880971\ttotal: 43s\tremaining: 5.97s\n",
            "878:\tlearn: 0.8880973\ttotal: 43s\tremaining: 5.92s\n",
            "879:\tlearn: 0.8880973\ttotal: 43.1s\tremaining: 5.87s\n",
            "880:\tlearn: 0.8880973\ttotal: 43.1s\tremaining: 5.82s\n",
            "881:\tlearn: 0.8880973\ttotal: 43.2s\tremaining: 5.77s\n",
            "882:\tlearn: 0.8880974\ttotal: 43.2s\tremaining: 5.72s\n",
            "883:\tlearn: 0.8880976\ttotal: 43.3s\tremaining: 5.67s\n",
            "884:\tlearn: 0.8880977\ttotal: 43.3s\tremaining: 5.63s\n",
            "885:\tlearn: 0.8880976\ttotal: 43.4s\tremaining: 5.58s\n",
            "886:\tlearn: 0.8880977\ttotal: 43.4s\tremaining: 5.53s\n",
            "887:\tlearn: 0.8880978\ttotal: 43.4s\tremaining: 5.48s\n",
            "888:\tlearn: 0.8880978\ttotal: 43.5s\tremaining: 5.43s\n",
            "889:\tlearn: 0.8880978\ttotal: 43.5s\tremaining: 5.38s\n",
            "890:\tlearn: 0.8880978\ttotal: 43.6s\tremaining: 5.33s\n",
            "891:\tlearn: 0.8880978\ttotal: 43.6s\tremaining: 5.28s\n",
            "892:\tlearn: 0.8880978\ttotal: 43.7s\tremaining: 5.24s\n",
            "893:\tlearn: 0.8880971\ttotal: 43.7s\tremaining: 5.19s\n",
            "894:\tlearn: 0.8880971\ttotal: 43.8s\tremaining: 5.14s\n",
            "895:\tlearn: 0.8880974\ttotal: 43.9s\tremaining: 5.09s\n",
            "896:\tlearn: 0.8880973\ttotal: 43.9s\tremaining: 5.04s\n",
            "897:\tlearn: 0.8880974\ttotal: 44s\tremaining: 4.99s\n",
            "898:\tlearn: 0.8880975\ttotal: 44s\tremaining: 4.94s\n",
            "899:\tlearn: 0.8880975\ttotal: 44s\tremaining: 4.89s\n",
            "900:\tlearn: 0.8880975\ttotal: 44.1s\tremaining: 4.84s\n",
            "901:\tlearn: 0.8880975\ttotal: 44.1s\tremaining: 4.79s\n",
            "902:\tlearn: 0.8880975\ttotal: 44.2s\tremaining: 4.75s\n",
            "903:\tlearn: 0.8880976\ttotal: 44.2s\tremaining: 4.7s\n",
            "904:\tlearn: 0.8880976\ttotal: 44.3s\tremaining: 4.65s\n",
            "905:\tlearn: 0.8880976\ttotal: 44.3s\tremaining: 4.6s\n",
            "906:\tlearn: 0.8880975\ttotal: 44.4s\tremaining: 4.55s\n",
            "907:\tlearn: 0.8880975\ttotal: 44.4s\tremaining: 4.5s\n",
            "908:\tlearn: 0.8880974\ttotal: 44.5s\tremaining: 4.45s\n",
            "909:\tlearn: 0.8880974\ttotal: 44.5s\tremaining: 4.4s\n",
            "910:\tlearn: 0.8880975\ttotal: 44.6s\tremaining: 4.36s\n",
            "911:\tlearn: 0.8880975\ttotal: 44.6s\tremaining: 4.31s\n",
            "912:\tlearn: 0.8880975\ttotal: 44.7s\tremaining: 4.26s\n",
            "913:\tlearn: 0.8880975\ttotal: 44.7s\tremaining: 4.21s\n",
            "914:\tlearn: 0.8880975\ttotal: 44.8s\tremaining: 4.16s\n",
            "915:\tlearn: 0.8880975\ttotal: 44.8s\tremaining: 4.11s\n",
            "916:\tlearn: 0.8880975\ttotal: 44.9s\tremaining: 4.06s\n",
            "917:\tlearn: 0.8880974\ttotal: 44.9s\tremaining: 4.01s\n",
            "918:\tlearn: 0.8880975\ttotal: 45s\tremaining: 3.96s\n",
            "919:\tlearn: 0.8880975\ttotal: 45s\tremaining: 3.92s\n",
            "920:\tlearn: 0.8880970\ttotal: 45.1s\tremaining: 3.87s\n",
            "921:\tlearn: 0.8880971\ttotal: 45.1s\tremaining: 3.82s\n",
            "922:\tlearn: 0.8880972\ttotal: 45.2s\tremaining: 3.77s\n",
            "923:\tlearn: 0.8880972\ttotal: 45.2s\tremaining: 3.72s\n",
            "924:\tlearn: 0.8880973\ttotal: 45.3s\tremaining: 3.67s\n",
            "925:\tlearn: 0.8880973\ttotal: 45.3s\tremaining: 3.62s\n",
            "926:\tlearn: 0.8880973\ttotal: 45.4s\tremaining: 3.57s\n",
            "927:\tlearn: 0.8880972\ttotal: 45.4s\tremaining: 3.52s\n",
            "928:\tlearn: 0.8880973\ttotal: 45.5s\tremaining: 3.47s\n",
            "929:\tlearn: 0.8880973\ttotal: 45.5s\tremaining: 3.42s\n",
            "930:\tlearn: 0.8880973\ttotal: 45.6s\tremaining: 3.38s\n",
            "931:\tlearn: 0.8880972\ttotal: 45.6s\tremaining: 3.33s\n",
            "932:\tlearn: 0.8880972\ttotal: 45.7s\tremaining: 3.28s\n",
            "933:\tlearn: 0.8880972\ttotal: 45.7s\tremaining: 3.23s\n",
            "934:\tlearn: 0.8880972\ttotal: 45.8s\tremaining: 3.18s\n",
            "935:\tlearn: 0.8880971\ttotal: 45.8s\tremaining: 3.13s\n",
            "936:\tlearn: 0.8880972\ttotal: 45.9s\tremaining: 3.08s\n",
            "937:\tlearn: 0.8880972\ttotal: 45.9s\tremaining: 3.03s\n",
            "938:\tlearn: 0.8880972\ttotal: 46s\tremaining: 2.98s\n",
            "939:\tlearn: 0.8880972\ttotal: 46s\tremaining: 2.94s\n",
            "940:\tlearn: 0.8880973\ttotal: 46.1s\tremaining: 2.89s\n",
            "941:\tlearn: 0.8880973\ttotal: 46.1s\tremaining: 2.84s\n",
            "942:\tlearn: 0.8880973\ttotal: 46.2s\tremaining: 2.79s\n",
            "943:\tlearn: 0.8880973\ttotal: 46.2s\tremaining: 2.74s\n",
            "944:\tlearn: 0.8880973\ttotal: 46.2s\tremaining: 2.69s\n",
            "945:\tlearn: 0.8880973\ttotal: 46.3s\tremaining: 2.64s\n",
            "946:\tlearn: 0.8880968\ttotal: 46.3s\tremaining: 2.59s\n",
            "947:\tlearn: 0.8880968\ttotal: 46.4s\tremaining: 2.54s\n",
            "948:\tlearn: 0.8880970\ttotal: 46.4s\tremaining: 2.5s\n",
            "949:\tlearn: 0.8880963\ttotal: 46.5s\tremaining: 2.45s\n",
            "950:\tlearn: 0.8880964\ttotal: 46.5s\tremaining: 2.4s\n",
            "951:\tlearn: 0.8880960\ttotal: 46.6s\tremaining: 2.35s\n",
            "952:\tlearn: 0.8880962\ttotal: 46.6s\tremaining: 2.3s\n",
            "953:\tlearn: 0.8880961\ttotal: 46.7s\tremaining: 2.25s\n",
            "954:\tlearn: 0.8880961\ttotal: 46.7s\tremaining: 2.2s\n",
            "955:\tlearn: 0.8880961\ttotal: 46.8s\tremaining: 2.15s\n",
            "956:\tlearn: 0.8880961\ttotal: 46.8s\tremaining: 2.1s\n",
            "957:\tlearn: 0.8880962\ttotal: 46.9s\tremaining: 2.06s\n",
            "958:\tlearn: 0.8880961\ttotal: 46.9s\tremaining: 2.01s\n",
            "959:\tlearn: 0.8880963\ttotal: 47s\tremaining: 1.96s\n",
            "960:\tlearn: 0.8880964\ttotal: 47s\tremaining: 1.91s\n",
            "961:\tlearn: 0.8880964\ttotal: 47.1s\tremaining: 1.86s\n",
            "962:\tlearn: 0.8880959\ttotal: 47.1s\tremaining: 1.81s\n",
            "963:\tlearn: 0.8880959\ttotal: 47.2s\tremaining: 1.76s\n",
            "964:\tlearn: 0.8880959\ttotal: 47.2s\tremaining: 1.71s\n",
            "965:\tlearn: 0.8880960\ttotal: 47.3s\tremaining: 1.66s\n",
            "966:\tlearn: 0.8880956\ttotal: 47.3s\tremaining: 1.61s\n",
            "967:\tlearn: 0.8880956\ttotal: 47.4s\tremaining: 1.57s\n",
            "968:\tlearn: 0.8880958\ttotal: 47.4s\tremaining: 1.52s\n",
            "969:\tlearn: 0.8880957\ttotal: 47.5s\tremaining: 1.47s\n",
            "970:\tlearn: 0.8880957\ttotal: 47.5s\tremaining: 1.42s\n",
            "971:\tlearn: 0.8880958\ttotal: 47.6s\tremaining: 1.37s\n",
            "972:\tlearn: 0.8880957\ttotal: 47.6s\tremaining: 1.32s\n",
            "973:\tlearn: 0.8880953\ttotal: 47.7s\tremaining: 1.27s\n",
            "974:\tlearn: 0.8880956\ttotal: 47.7s\tremaining: 1.22s\n",
            "975:\tlearn: 0.8880956\ttotal: 47.8s\tremaining: 1.17s\n",
            "976:\tlearn: 0.8880955\ttotal: 47.8s\tremaining: 1.13s\n",
            "977:\tlearn: 0.8880955\ttotal: 47.9s\tremaining: 1.08s\n",
            "978:\tlearn: 0.8880955\ttotal: 47.9s\tremaining: 1.03s\n",
            "979:\tlearn: 0.8880955\ttotal: 48s\tremaining: 979ms\n",
            "980:\tlearn: 0.8880953\ttotal: 48s\tremaining: 930ms\n",
            "981:\tlearn: 0.8880951\ttotal: 48.1s\tremaining: 881ms\n",
            "982:\tlearn: 0.8880951\ttotal: 48.1s\tremaining: 832ms\n",
            "983:\tlearn: 0.8880951\ttotal: 48.2s\tremaining: 783ms\n",
            "984:\tlearn: 0.8880951\ttotal: 48.2s\tremaining: 734ms\n",
            "985:\tlearn: 0.8880953\ttotal: 48.3s\tremaining: 685ms\n",
            "986:\tlearn: 0.8880954\ttotal: 48.3s\tremaining: 636ms\n",
            "987:\tlearn: 0.8880954\ttotal: 48.4s\tremaining: 587ms\n",
            "988:\tlearn: 0.8880954\ttotal: 48.4s\tremaining: 538ms\n",
            "989:\tlearn: 0.8880956\ttotal: 48.5s\tremaining: 489ms\n",
            "990:\tlearn: 0.8880956\ttotal: 48.5s\tremaining: 440ms\n",
            "991:\tlearn: 0.8880956\ttotal: 48.6s\tremaining: 392ms\n",
            "992:\tlearn: 0.8880957\ttotal: 48.6s\tremaining: 343ms\n",
            "993:\tlearn: 0.8880956\ttotal: 48.7s\tremaining: 294ms\n",
            "994:\tlearn: 0.8880957\ttotal: 48.7s\tremaining: 245ms\n",
            "995:\tlearn: 0.8880957\ttotal: 48.8s\tremaining: 196ms\n",
            "996:\tlearn: 0.8880957\ttotal: 48.8s\tremaining: 147ms\n",
            "997:\tlearn: 0.8880958\ttotal: 48.9s\tremaining: 97.9ms\n",
            "998:\tlearn: 0.8880958\ttotal: 48.9s\tremaining: 48.9ms\n",
            "999:\tlearn: 0.8880958\ttotal: 48.9s\tremaining: 0us\n",
            "Model 2 Training Complete\n",
            "[20:54:08] WARNING: /workspace/src/objective/regression_obj.cu:152: reg:linear is now deprecated in favor of reg:squarederror.\n",
            "Model 3 Training Complete\n",
            "Epoch 1/3\n",
            "7443/7443 [==============================] - 24s 3ms/step - loss: 6.2094 - mae: 0.3529 - mse: 6.2094\n",
            "Epoch 2/3\n",
            "7443/7443 [==============================] - 24s 3ms/step - loss: 6.1218 - mae: 0.3507 - mse: 6.1218\n",
            "Epoch 3/3\n",
            "7443/7443 [==============================] - 24s 3ms/step - loss: 6.1583 - mae: 0.3510 - mse: 6.1583\n"
          ],
          "name": "stdout"
        }
      ]
    },
    {
      "cell_type": "code",
      "metadata": {
        "id": "GT7luUdcDd7N"
      },
      "source": [
        " y_test=stack.predict(X_test).astype(float).clip(0, 20)"
      ],
      "execution_count": 13,
      "outputs": []
    },
    {
      "cell_type": "code",
      "metadata": {
        "id": "vAbUpTAO8gb9",
        "outputId": "d9c4b90c-af08-4133-cd89-0df170017fb3",
        "colab": {
          "base_uri": "https://localhost:8080/",
          "height": 417
        }
      },
      "source": [
        "submission=pd.DataFrame({'ID':test.ID.values,'item_cnt_month':y_test.reshape(-1,)})\n",
        "submission.set_index('ID')"
      ],
      "execution_count": 23,
      "outputs": [
        {
          "output_type": "execute_result",
          "data": {
            "text/html": [
              "<div>\n",
              "<style scoped>\n",
              "    .dataframe tbody tr th:only-of-type {\n",
              "        vertical-align: middle;\n",
              "    }\n",
              "\n",
              "    .dataframe tbody tr th {\n",
              "        vertical-align: top;\n",
              "    }\n",
              "\n",
              "    .dataframe thead th {\n",
              "        text-align: right;\n",
              "    }\n",
              "</style>\n",
              "<table border=\"1\" class=\"dataframe\">\n",
              "  <thead>\n",
              "    <tr style=\"text-align: right;\">\n",
              "      <th></th>\n",
              "      <th>item_cnt_month</th>\n",
              "    </tr>\n",
              "    <tr>\n",
              "      <th>ID</th>\n",
              "      <th></th>\n",
              "    </tr>\n",
              "  </thead>\n",
              "  <tbody>\n",
              "    <tr>\n",
              "      <th>0</th>\n",
              "      <td>0.657066</td>\n",
              "    </tr>\n",
              "    <tr>\n",
              "      <th>1</th>\n",
              "      <td>0.617912</td>\n",
              "    </tr>\n",
              "    <tr>\n",
              "      <th>2</th>\n",
              "      <td>0.891990</td>\n",
              "    </tr>\n",
              "    <tr>\n",
              "      <th>3</th>\n",
              "      <td>0.509299</td>\n",
              "    </tr>\n",
              "    <tr>\n",
              "      <th>4</th>\n",
              "      <td>4.579411</td>\n",
              "    </tr>\n",
              "    <tr>\n",
              "      <th>...</th>\n",
              "      <td>...</td>\n",
              "    </tr>\n",
              "    <tr>\n",
              "      <th>214195</th>\n",
              "      <td>0.130953</td>\n",
              "    </tr>\n",
              "    <tr>\n",
              "      <th>214196</th>\n",
              "      <td>0.054563</td>\n",
              "    </tr>\n",
              "    <tr>\n",
              "      <th>214197</th>\n",
              "      <td>0.061935</td>\n",
              "    </tr>\n",
              "    <tr>\n",
              "      <th>214198</th>\n",
              "      <td>0.056563</td>\n",
              "    </tr>\n",
              "    <tr>\n",
              "      <th>214199</th>\n",
              "      <td>0.040761</td>\n",
              "    </tr>\n",
              "  </tbody>\n",
              "</table>\n",
              "<p>214200 rows × 1 columns</p>\n",
              "</div>"
            ],
            "text/plain": [
              "        item_cnt_month\n",
              "ID                    \n",
              "0             0.657066\n",
              "1             0.617912\n",
              "2             0.891990\n",
              "3             0.509299\n",
              "4             4.579411\n",
              "...                ...\n",
              "214195        0.130953\n",
              "214196        0.054563\n",
              "214197        0.061935\n",
              "214198        0.056563\n",
              "214199        0.040761\n",
              "\n",
              "[214200 rows x 1 columns]"
            ]
          },
          "metadata": {
            "tags": []
          },
          "execution_count": 23
        }
      ]
    },
    {
      "cell_type": "code",
      "metadata": {
        "id": "UKMigyme9r4q",
        "outputId": "ee56394a-b06b-4900-b442-ddec3e01d99c",
        "colab": {
          "base_uri": "https://localhost:8080/",
          "height": 283
        }
      },
      "source": [
        "submission['item_cnt_month'].plot()"
      ],
      "execution_count": 25,
      "outputs": [
        {
          "output_type": "execute_result",
          "data": {
            "text/plain": [
              "<matplotlib.axes._subplots.AxesSubplot at 0x7f9dc74d4dd8>"
            ]
          },
          "metadata": {
            "tags": []
          },
          "execution_count": 25
        },
        {
          "output_type": "display_data",
          "data": {
            "image/png": "[encoded data removed]",
            "text/plain": [
              "<Figure size 432x288 with 1 Axes>"
            ]
          },
          "metadata": {
            "tags": [],
            "needs_background": "light"
          }
        }
      ]
    },
    {
      "cell_type": "code",
      "metadata": {
        "id": "KRPWmQtgW2al"
      },
      "source": [
        "submission.to_csv('/content/drive/My Drive/Final_Kaggle_Competition/data/final_submission.csv', index=False)"
      ],
      "execution_count": 26,
      "outputs": []
    },
    {
      "cell_type": "code",
      "metadata": {
        "id": "0aj7FBCMpkc4"
      },
      "source": [
        ""
      ],
      "execution_count": null,
      "outputs": []
    }
  ]
}